{
 "cells": [
  {
   "cell_type": "code",
   "execution_count": 1,
   "metadata": {},
   "outputs": [
    {
     "data": {
      "text/html": [
       "        <script type=\"text/javascript\">\n",
       "        window.PlotlyConfig = {MathJaxConfig: 'local'};\n",
       "        if (window.MathJax) {MathJax.Hub.Config({SVG: {font: \"STIX-Web\"}});}\n",
       "        if (typeof require !== 'undefined') {\n",
       "        require.undef(\"plotly\");\n",
       "        requirejs.config({\n",
       "            paths: {\n",
       "                'plotly': ['https://cdn.plot.ly/plotly-latest.min']\n",
       "            }\n",
       "        });\n",
       "        require(['plotly'], function(Plotly) {\n",
       "            window._Plotly = Plotly;\n",
       "        });\n",
       "        }\n",
       "        </script>\n",
       "        "
      ]
     },
     "metadata": {},
     "output_type": "display_data"
    }
   ],
   "source": [
    "import pandas as pd\n",
    "import numpy as np\n",
    "import random\n",
    "\n",
    "from sklearn.decomposition import PCA \n",
    "from sklearn.manifold import TSNE \n",
    "from sklearn.cluster import KMeans \n",
    "from sklearn.preprocessing import StandardScaler \n",
    "\n",
    "import plotly as py\n",
    "import plotly.graph_objs as go\n",
    "from plotly.offline import download_plotlyjs, init_notebook_mode, plot, iplot\n",
    "init_notebook_mode(connected=True)"
   ]
  },
  {
   "cell_type": "code",
   "execution_count": 2,
   "metadata": {},
   "outputs": [
    {
     "name": "stdout",
     "output_type": "stream",
     "text": [
      "   user_id  Food  Fashion  Make-up  Beauty  Lifestyle  Luxury  Travel  \\\n",
      "0      127   2.0     12.0      6.0     4.0        4.0     3.0    15.0   \n",
      "1      128   3.0      8.0      5.0     5.0        6.0     3.0     5.0   \n",
      "2      132   2.0      7.0      5.0     4.0        7.0     4.0    12.0   \n",
      "3      134   2.0     11.0      6.0     9.0        7.0     3.0    12.0   \n",
      "4      135   3.0      5.0      5.0     9.0        9.0     7.0    16.0   \n",
      "\n",
      "   Photography  \n",
      "0          2.0  \n",
      "1          1.0  \n",
      "2          2.0  \n",
      "3          2.0  \n",
      "4          2.0  \n",
      "   user_id                                          url\n",
      "0      127   https://www.instagram.com/abhiruchipandey/\n",
      "1      128  https://www.instagram.com/thebasic_culture/\n",
      "2      132      https://www.instagram.com/vipul_juneja/\n",
      "3      134      https://www.instagram.com/theleggylass/\n",
      "4      135     https://www.instagram.com/akanksharedhu/\n"
     ]
    }
   ],
   "source": [
    "df_raw = pd.read_csv(\"data.csv\")\n",
    "df_ = df_raw.drop(['url','Fitness', 'Sports', 'Gaming', 'Entertainment', 'Gadgets & Tech', 'Finance', 'Education', 'Animal/Pet', 'Health', 'Self Improvement', 'Art', 'Parenting', 'Books', 'url', 'genuinity_score', 'top keywords'], axis=1)\n",
    "print(df_.head())\n",
    "\n",
    "df_info = pd.read_csv(\"data.csv\", usecols= ['user_id', 'url'])\n",
    "print(df_info.head())"
   ]
  },
  {
   "cell_type": "code",
   "execution_count": 3,
   "metadata": {},
   "outputs": [
    {
     "data": {
      "text/html": [
       "<div>\n",
       "<style scoped>\n",
       "    .dataframe tbody tr th:only-of-type {\n",
       "        vertical-align: middle;\n",
       "    }\n",
       "\n",
       "    .dataframe tbody tr th {\n",
       "        vertical-align: top;\n",
       "    }\n",
       "\n",
       "    .dataframe thead th {\n",
       "        text-align: right;\n",
       "    }\n",
       "</style>\n",
       "<table border=\"1\" class=\"dataframe\">\n",
       "  <thead>\n",
       "    <tr style=\"text-align: right;\">\n",
       "      <th></th>\n",
       "      <th>0</th>\n",
       "      <th>1</th>\n",
       "      <th>2</th>\n",
       "      <th>3</th>\n",
       "      <th>4</th>\n",
       "      <th>5</th>\n",
       "      <th>6</th>\n",
       "      <th>7</th>\n",
       "      <th>8</th>\n",
       "    </tr>\n",
       "  </thead>\n",
       "  <tbody>\n",
       "    <tr>\n",
       "      <th>0</th>\n",
       "      <td>-1.587887</td>\n",
       "      <td>-0.517096</td>\n",
       "      <td>0.762015</td>\n",
       "      <td>0.022361</td>\n",
       "      <td>-0.485286</td>\n",
       "      <td>-0.319008</td>\n",
       "      <td>-0.214583</td>\n",
       "      <td>1.301202</td>\n",
       "      <td>-0.348429</td>\n",
       "    </tr>\n",
       "    <tr>\n",
       "      <th>1</th>\n",
       "      <td>-1.582266</td>\n",
       "      <td>-0.431983</td>\n",
       "      <td>0.093993</td>\n",
       "      <td>-0.255758</td>\n",
       "      <td>-0.242643</td>\n",
       "      <td>0.328773</td>\n",
       "      <td>-0.214583</td>\n",
       "      <td>-0.602763</td>\n",
       "      <td>-0.707690</td>\n",
       "    </tr>\n",
       "    <tr>\n",
       "      <th>2</th>\n",
       "      <td>-1.559784</td>\n",
       "      <td>-0.517096</td>\n",
       "      <td>-0.073012</td>\n",
       "      <td>-0.255758</td>\n",
       "      <td>-0.485286</td>\n",
       "      <td>0.652664</td>\n",
       "      <td>0.547953</td>\n",
       "      <td>0.730013</td>\n",
       "      <td>-0.348429</td>\n",
       "    </tr>\n",
       "    <tr>\n",
       "      <th>3</th>\n",
       "      <td>-1.548542</td>\n",
       "      <td>-0.517096</td>\n",
       "      <td>0.595009</td>\n",
       "      <td>0.022361</td>\n",
       "      <td>0.727930</td>\n",
       "      <td>0.652664</td>\n",
       "      <td>-0.214583</td>\n",
       "      <td>0.730013</td>\n",
       "      <td>-0.348429</td>\n",
       "    </tr>\n",
       "    <tr>\n",
       "      <th>4</th>\n",
       "      <td>-1.542922</td>\n",
       "      <td>-0.431983</td>\n",
       "      <td>-0.407023</td>\n",
       "      <td>-0.255758</td>\n",
       "      <td>0.727930</td>\n",
       "      <td>1.300444</td>\n",
       "      <td>2.835561</td>\n",
       "      <td>1.491599</td>\n",
       "      <td>-0.348429</td>\n",
       "    </tr>\n",
       "    <tr>\n",
       "      <th>5</th>\n",
       "      <td>-1.537301</td>\n",
       "      <td>-0.431983</td>\n",
       "      <td>-0.240018</td>\n",
       "      <td>0.856719</td>\n",
       "      <td>0.727930</td>\n",
       "      <td>-0.319008</td>\n",
       "      <td>0.547953</td>\n",
       "      <td>-0.221970</td>\n",
       "      <td>-0.348429</td>\n",
       "    </tr>\n",
       "    <tr>\n",
       "      <th>6</th>\n",
       "      <td>-1.526059</td>\n",
       "      <td>1.355400</td>\n",
       "      <td>-0.741034</td>\n",
       "      <td>-0.255758</td>\n",
       "      <td>-0.727930</td>\n",
       "      <td>-1.290679</td>\n",
       "      <td>-1.739655</td>\n",
       "      <td>-0.793159</td>\n",
       "      <td>-0.348429</td>\n",
       "    </tr>\n",
       "    <tr>\n",
       "      <th>7</th>\n",
       "      <td>-1.509197</td>\n",
       "      <td>-0.517096</td>\n",
       "      <td>0.260998</td>\n",
       "      <td>0.022361</td>\n",
       "      <td>-0.242643</td>\n",
       "      <td>2.272115</td>\n",
       "      <td>0.547953</td>\n",
       "      <td>-0.412366</td>\n",
       "      <td>0.729354</td>\n",
       "    </tr>\n",
       "    <tr>\n",
       "      <th>8</th>\n",
       "      <td>-1.503577</td>\n",
       "      <td>-0.431983</td>\n",
       "      <td>-0.741034</td>\n",
       "      <td>3.081671</td>\n",
       "      <td>2.669076</td>\n",
       "      <td>-0.966788</td>\n",
       "      <td>-0.214583</td>\n",
       "      <td>-0.602763</td>\n",
       "      <td>-0.348429</td>\n",
       "    </tr>\n",
       "    <tr>\n",
       "      <th>9</th>\n",
       "      <td>-1.475473</td>\n",
       "      <td>3.483236</td>\n",
       "      <td>-0.908040</td>\n",
       "      <td>-1.090115</td>\n",
       "      <td>-0.727930</td>\n",
       "      <td>-1.290679</td>\n",
       "      <td>-0.977119</td>\n",
       "      <td>-0.983556</td>\n",
       "      <td>-0.348429</td>\n",
       "    </tr>\n",
       "  </tbody>\n",
       "</table>\n",
       "</div>"
      ],
      "text/plain": [
       "          0         1         2         3         4         5         6  \\\n",
       "0 -1.587887 -0.517096  0.762015  0.022361 -0.485286 -0.319008 -0.214583   \n",
       "1 -1.582266 -0.431983  0.093993 -0.255758 -0.242643  0.328773 -0.214583   \n",
       "2 -1.559784 -0.517096 -0.073012 -0.255758 -0.485286  0.652664  0.547953   \n",
       "3 -1.548542 -0.517096  0.595009  0.022361  0.727930  0.652664 -0.214583   \n",
       "4 -1.542922 -0.431983 -0.407023 -0.255758  0.727930  1.300444  2.835561   \n",
       "5 -1.537301 -0.431983 -0.240018  0.856719  0.727930 -0.319008  0.547953   \n",
       "6 -1.526059  1.355400 -0.741034 -0.255758 -0.727930 -1.290679 -1.739655   \n",
       "7 -1.509197 -0.517096  0.260998  0.022361 -0.242643  2.272115  0.547953   \n",
       "8 -1.503577 -0.431983 -0.741034  3.081671  2.669076 -0.966788 -0.214583   \n",
       "9 -1.475473  3.483236 -0.908040 -1.090115 -0.727930 -1.290679 -0.977119   \n",
       "\n",
       "          7         8  \n",
       "0  1.301202 -0.348429  \n",
       "1 -0.602763 -0.707690  \n",
       "2  0.730013 -0.348429  \n",
       "3  0.730013 -0.348429  \n",
       "4  1.491599 -0.348429  \n",
       "5 -0.221970 -0.348429  \n",
       "6 -0.793159 -0.348429  \n",
       "7 -0.412366  0.729354  \n",
       "8 -0.602763 -0.348429  \n",
       "9 -0.983556 -0.348429  "
      ]
     },
     "execution_count": 3,
     "metadata": {},
     "output_type": "execute_result"
    }
   ],
   "source": [
    "scaler = StandardScaler()\n",
    "df = pd.DataFrame(scaler.fit_transform(df_))\n",
    "df.head(10)"
   ]
  },
  {
   "cell_type": "code",
   "execution_count": 4,
   "metadata": {},
   "outputs": [
    {
     "name": "stdout",
     "output_type": "stream",
     "text": [
      "Initialization complete\n",
      "Iteration 0, inertia 1277.0539878919703\n",
      "Iteration 1, inertia 1008.3662561154744\n",
      "Iteration 2, inertia 984.9937446312504\n",
      "Iteration 3, inertia 972.1381555512064\n",
      "Iteration 4, inertia 966.6589018876366\n",
      "Iteration 5, inertia 963.5066258362134\n",
      "Iteration 6, inertia 960.7554963240565\n",
      "Iteration 7, inertia 950.2960392109206\n",
      "Iteration 8, inertia 921.758119245862\n",
      "Iteration 9, inertia 906.7413510312919\n",
      "Iteration 10, inertia 899.7825065079032\n",
      "Iteration 11, inertia 898.917951948931\n",
      "Iteration 12, inertia 898.3880853259177\n",
      "Iteration 13, inertia 898.051767873378\n",
      "Iteration 14, inertia 897.4737139414916\n",
      "Iteration 15, inertia 897.3204997951896\n",
      "Converged at iteration 15: strict convergence.\n",
      "Initialization complete\n",
      "Iteration 0, inertia 1416.5388916496609\n",
      "Iteration 1, inertia 1010.1284847997983\n",
      "Iteration 2, inertia 955.5421134479016\n",
      "Iteration 3, inertia 938.7572045586861\n",
      "Iteration 4, inertia 936.33299295775\n",
      "Iteration 5, inertia 936.1802770422626\n",
      "Iteration 6, inertia 935.68246084136\n",
      "Iteration 7, inertia 935.3835689504687\n",
      "Converged at iteration 7: strict convergence.\n",
      "Initialization complete\n",
      "Iteration 0, inertia 1222.6945913333814\n",
      "Iteration 1, inertia 982.2556102838898\n",
      "Iteration 2, inertia 953.1171037246311\n",
      "Iteration 3, inertia 945.6931043132145\n",
      "Iteration 4, inertia 945.4411299375257\n",
      "Converged at iteration 4: strict convergence.\n",
      "Initialization complete\n",
      "Iteration 0, inertia 1331.4960650275673\n",
      "Iteration 1, inertia 1056.5992556267997\n",
      "Iteration 2, inertia 1029.8786437471983\n",
      "Iteration 3, inertia 1010.1566706215419\n",
      "Iteration 4, inertia 1005.7837982491365\n",
      "Iteration 5, inertia 1002.0711169314511\n",
      "Iteration 6, inertia 1000.1180439401647\n",
      "Iteration 7, inertia 996.0073028293442\n",
      "Iteration 8, inertia 991.5807600877632\n",
      "Iteration 9, inertia 988.5792641128769\n",
      "Iteration 10, inertia 966.739362402592\n",
      "Iteration 11, inertia 945.262806388562\n",
      "Iteration 12, inertia 940.6179155121113\n",
      "Iteration 13, inertia 936.9128214476498\n",
      "Iteration 14, inertia 932.9631062283111\n",
      "Iteration 15, inertia 931.3306807036643\n",
      "Converged at iteration 15: strict convergence.\n",
      "Initialization complete\n",
      "Iteration 0, inertia 1414.6057128486316\n",
      "Iteration 1, inertia 1025.4475804084377\n",
      "Iteration 2, inertia 1000.4049046000623\n",
      "Iteration 3, inertia 988.9869197130411\n",
      "Iteration 4, inertia 973.9398520900208\n",
      "Iteration 5, inertia 953.9802757296386\n",
      "Iteration 6, inertia 946.638205506178\n",
      "Iteration 7, inertia 943.7713704789655\n",
      "Iteration 8, inertia 939.1798509322823\n",
      "Iteration 9, inertia 937.8988970997431\n",
      "Iteration 10, inertia 937.6378913895853\n",
      "Converged at iteration 10: strict convergence.\n",
      "Initialization complete\n",
      "Iteration 0, inertia 1265.396385828044\n",
      "Iteration 1, inertia 992.3553787018252\n",
      "Iteration 2, inertia 960.5689973557211\n",
      "Iteration 3, inertia 949.742853660922\n",
      "Iteration 4, inertia 938.6557081039699\n",
      "Iteration 5, inertia 934.3062082838022\n",
      "Iteration 6, inertia 933.9024393769855\n",
      "Iteration 7, inertia 933.5780225591716\n",
      "Converged at iteration 7: strict convergence.\n",
      "Initialization complete\n",
      "Iteration 0, inertia 1389.1521101854355\n",
      "Iteration 1, inertia 1056.954200967931\n",
      "Iteration 2, inertia 993.9421604472499\n",
      "Iteration 3, inertia 963.6907368460943\n",
      "Iteration 4, inertia 947.9467714012327\n",
      "Iteration 5, inertia 942.7765143637426\n",
      "Iteration 6, inertia 940.7620044670855\n",
      "Iteration 7, inertia 938.8160765425018\n",
      "Iteration 8, inertia 932.0779898080425\n",
      "Iteration 9, inertia 930.8676785360536\n",
      "Converged at iteration 9: strict convergence.\n",
      "Initialization complete\n",
      "Iteration 0, inertia 1257.1948409510105\n",
      "Iteration 1, inertia 991.4720177777483\n",
      "Iteration 2, inertia 933.1096056517727\n",
      "Iteration 3, inertia 927.9466517233976\n",
      "Iteration 4, inertia 926.6209309479989\n",
      "Iteration 5, inertia 926.3822356092726\n",
      "Converged at iteration 5: strict convergence.\n",
      "Initialization complete\n",
      "Iteration 0, inertia 1324.6708637940026\n",
      "Iteration 1, inertia 1000.9181214287629\n",
      "Iteration 2, inertia 976.6933259725295\n",
      "Iteration 3, inertia 965.9615949310971\n",
      "Iteration 4, inertia 960.1212198096977\n",
      "Iteration 5, inertia 956.9377266482725\n",
      "Iteration 6, inertia 954.1719725250786\n",
      "Iteration 7, inertia 953.484610876005\n",
      "Iteration 8, inertia 952.8406384150967\n",
      "Iteration 9, inertia 949.5661311623871\n",
      "Iteration 10, inertia 947.9918140499215\n",
      "Iteration 11, inertia 947.7508093831564\n",
      "Converged at iteration 11: strict convergence.\n",
      "Initialization complete\n",
      "Iteration 0, inertia 1354.8944863237787\n",
      "Iteration 1, inertia 994.308644060297\n",
      "Iteration 2, inertia 964.4116895779478\n",
      "Iteration 3, inertia 957.2804166520796\n",
      "Iteration 4, inertia 955.1952413756787\n",
      "Iteration 5, inertia 954.7902586055302\n",
      "Iteration 6, inertia 954.0813442203043\n",
      "Iteration 7, inertia 953.4522809009381\n",
      "Iteration 8, inertia 952.8109146024908\n",
      "Converged at iteration 8: strict convergence.\n"
     ]
    },
    {
     "data": {
      "text/plain": [
       "KMeans(n_clusters=6, verbose=1)"
      ]
     },
     "execution_count": 4,
     "metadata": {},
     "output_type": "execute_result"
    }
   ],
   "source": [
    "kmeans = KMeans(n_clusters= 6, verbose=1)\n",
    "kmeans.fit(df)"
   ]
  },
  {
   "cell_type": "code",
   "execution_count": 5,
   "metadata": {},
   "outputs": [],
   "source": [
    "clusters = kmeans.predict(df)\n",
    "df[\"Cluster\"] = clusters\n",
    "\n",
    "df.to_csv(\"results.csv\", index= False)"
   ]
  },
  {
   "cell_type": "code",
   "execution_count": 6,
   "metadata": {},
   "outputs": [],
   "source": [
    "plotX = pd.DataFrame(np.array(df.sample(150)))\n",
    "\n",
    "plotX.columns = df.columns"
   ]
  },
  {
   "cell_type": "code",
   "execution_count": 7,
   "metadata": {},
   "outputs": [],
   "source": [
    "pca_2d = PCA(n_components=2)\n",
    "pca_3d = PCA(n_components=3)\n",
    "\n",
    "#Nobody likes doing PCA with categorical tags ://\n",
    "PCs_2d = pd.DataFrame(pca_2d.fit_transform(plotX.drop([\"Cluster\"], axis=1)))\n",
    "PCs_3d = pd.DataFrame(pca_3d.fit_transform(plotX.drop([\"Cluster\"], axis=1)))\n",
    "\n",
    "PCs_2d.columns = [\"PC1_2d\", \"PC2_2d\"]\n",
    "PCs_3d.columns = [\"PC1_3d\", \"PC2_3d\", \"PC3_3d\"]\n",
    "\n",
    "plotX = pd.concat([plotX,PCs_2d,PCs_3d], axis=1, join='inner')\n",
    "plotX[\"dummy\"] = 0\n",
    "\n",
    "cluster0 = plotX[plotX[\"Cluster\"] == 0]\n",
    "cluster1 = plotX[plotX[\"Cluster\"] == 1]\n",
    "cluster2 = plotX[plotX[\"Cluster\"] == 2]\n",
    "cluster3 = plotX[plotX[\"Cluster\"] == 3]\n",
    "cluster4 = plotX[plotX[\"Cluster\"] == 4]\n",
    "cluster5 = plotX[plotX[\"Cluster\"] == 5]"
   ]
  },
  {
   "cell_type": "code",
   "execution_count": 11,
   "metadata": {},
   "outputs": [
    {
     "data": {
      "application/vnd.plotly.v1+json": {
       "config": {
        "linkText": "Export to plot.ly",
        "plotlyServerURL": "https://plot.ly",
        "showLink": false
       },
       "data": [
        {
         "marker": {
          "color": "rgba(255, 128, 255, 0.8)"
         },
         "mode": "markers",
         "name": "Cluster 0",
         "type": "scatter",
         "x": [
          -0.9541687605767896,
          -0.8669874348379388,
          -1.1825030721831562,
          0.33018217476939155,
          -1.068963569124556,
          -1.7959882025906542,
          -1.0459620824829554,
          -0.5050012322651036
         ],
         "y": [
          -1.0162774867380917,
          -0.7204800144043166,
          -1.1644199774976391,
          -0.6364401406787101,
          -1.1512336021900857,
          -0.5586701464044846,
          -0.5677792063359597,
          -1.3757224489206796
         ]
        },
        {
         "marker": {
          "color": "rgba(255, 128, 2, 0.8)"
         },
         "mode": "markers",
         "name": "Cluster 1",
         "type": "scatter",
         "x": [
          1.228228605024297,
          -0.0900661697234878,
          -0.040034592082644704,
          3.152518180756914,
          2.287885659437627,
          1.3691634957907983,
          1.3054849833796234,
          0.8484983584279177,
          4.562604180449851
         ],
         "y": [
          0.10239097427611364,
          -2.039543755917458,
          -2.1741210332276535,
          -4.449526405379755,
          -2.0572190063619393,
          -0.5860678621098879,
          -1.4582904891212272,
          -2.4137979565680965,
          -3.1358997337275407
         ]
        },
        {
         "marker": {
          "color": "rgba(0, 135, 200, 0.8)"
         },
         "mode": "markers",
         "name": "Photography",
         "type": "scatter",
         "x": [
          2.051365633447847,
          2.0501345847568433,
          3.0233553790549967,
          2.3317742192759727,
          3.4719317807887538,
          1.469202974946937,
          0.43136861063741677,
          0.9211203217014604,
          1.9979233640954472,
          2.278760111697372,
          3.216283724355382,
          1.6289187682398232,
          1.7799246039925696,
          1.8273370031841767,
          1.5612701842054975,
          1.3731858511307369,
          1.2383967419238675,
          2.1654509758242484,
          1.7215929425171337,
          1.7236292878860213,
          1.8532672938222317,
          1.3293978724215259,
          0.3394362485076554,
          1.963492607024624,
          0.7100070292287772,
          1.7381839909757135,
          1.9087817805938414,
          0.7461289689352134
         ],
         "y": [
          0.4735628211592762,
          -0.7498219418979637,
          -1.7651777958017283,
          -1.7280993489321308,
          -1.3479064566416552,
          0.9633940984981669,
          0.4961659767525732,
          -0.4313044323925525,
          -1.2704051085157222,
          -1.9209576635706282,
          -2.0520254521922734,
          -0.4203128274259217,
          -1.0255739360248082,
          -0.32091135605501353,
          -0.022363180528684506,
          -0.3284722818443162,
          -0.0001244089599507883,
          -1.049944059179883,
          0.8052392144483028,
          -0.4478273532041043,
          -0.7171883098593635,
          -1.1957810412558385,
          -0.6329446437144962,
          0.22116128854701464,
          -0.710586643312545,
          -0.28822230380734215,
          -0.8596614676208171,
          -0.43030733305351027
         ]
        },
        {
         "marker": {
          "color": "rgba(0, 105, 50, 0.8)"
         },
         "mode": "markers",
         "name": "Food",
         "type": "scatter",
         "x": [
          -1.49255024809524,
          -1.4591257152470394,
          -1.648917832869049,
          -1.6213731016331325,
          -1.5973178897581097,
          -2.3126389780591303,
          -1.342998851005585,
          -2.068779969189513,
          -2.5115408991161674,
          -2.8197752296669294,
          -2.8273738889014894,
          -2.933376947427379,
          -2.7859343119702764,
          -2.5406798656144134,
          -1.4669259999658983,
          -1.5896546716840438,
          -1.7609530875402453,
          -3.0575666182762995,
          -2.080191267665669,
          -2.161839168919216,
          -2.2588008000287716,
          -1.679408759515035,
          -2.3022741632494776,
          -1.6701138303795067,
          -2.7683170385822775,
          -2.1594663954180104,
          -2.867906766035307,
          -2.881194491035128
         ],
         "y": [
          -0.2658364425279835,
          0.015294270938254763,
          -0.26607512616070295,
          -0.402916639986048,
          -1.1548042743811258,
          -0.637153236645647,
          -0.7052044559042706,
          -0.3810219994735326,
          -0.5333674864883176,
          -0.5585164501346268,
          -0.8542217301566452,
          -0.8985537353519188,
          -1.0934614079230875,
          -1.0150815138011766,
          -0.10890705080461088,
          -1.8143309036869613,
          -0.869506851437807,
          -1.126373765540017,
          -0.3865232582118155,
          -0.6156750700184569,
          -0.8310857864565541,
          -0.1619614916511893,
          -0.29086767362922034,
          -0.2988056091947235,
          -0.48094492161977825,
          -0.09930943582324704,
          -1.0338616889567611,
          -0.7946594783828942
         ]
        },
        {
         "marker": {
          "color": "rgba(50, 25, 210, 0.8)"
         },
         "mode": "markers",
         "name": "Cluster 4",
         "type": "scatter",
         "x": [
          2.0240379756311304,
          1.202659720695166,
          0.18594181736172213,
          0.6428200581400089,
          1.3904811878070322,
          -0.29734572576050805,
          0.8929001555412633,
          1.5670453310461137,
          0.39996948438491736,
          -0.09251662687608457,
          0.5367929673937637,
          0.20794783322481297,
          0.08117409851955219,
          0.29975959949275754,
          -0.2633479793817486,
          0.300321706848922,
          -0.1866075795064931,
          0.18512191997353833,
          0.5079070432954381,
          0.08209412819167457,
          -0.453474013013545,
          -0.09568448104548859,
          0.02196113449304669
         ],
         "y": [
          4.802760974965863,
          2.4679025076659964,
          2.6473336318083,
          2.2162428501149782,
          4.964510387320434,
          3.4056582739092467,
          1.6604746393948127,
          1.3818717302885046,
          3.7165498911647052,
          3.5868287798102365,
          0.9438323215195871,
          1.3164407440065269,
          1.2878645565888283,
          3.533416449384032,
          2.1008419241078657,
          1.2986126257065533,
          2.6204900257863053,
          3.2935060536201735,
          1.6478159453776957,
          2.2653660003275746,
          2.1416647364811823,
          3.37473205910859,
          1.586298383388075
         ]
        },
        {
         "marker": {
          "color": "rgba(70, 195, 100, 0.8)"
         },
         "mode": "markers",
         "name": "Fashion",
         "type": "scatter",
         "x": [
          0.6345312143125275,
          -0.3380949070609553,
          -0.8305246591230361,
          0.2775301086270879,
          -0.9629327696666672,
          0.07255480055856654,
          0.22967172684391532,
          0.4073464480443296,
          -1.2985747165240886,
          1.2143710013982103,
          -1.0365168842274035,
          -0.7665373098840739,
          0.4942857987418079,
          -0.0606457238965456,
          -0.04038513765138775,
          -0.036647586211313164,
          0.41565526978490397,
          0.572692545986559,
          -0.361121291780297,
          0.9221140766874474,
          -0.924435954459483,
          -0.2441265056997146,
          -1.1616794963350334,
          -0.5173163387832302,
          -0.6228897045868657,
          -0.7998638157041573,
          0.40160081489849697,
          -0.9339868473102378,
          0.03241857172496963,
          -0.4709909872879596,
          0.08548718775236593,
          -0.049252923938835166,
          -0.3196293185226985,
          0.5504684385563567,
          -0.658789573614981,
          0.2787388162997789,
          -1.0238757737180015,
          -0.5415553481469704,
          0.7513114182200042,
          0.3799577219481717,
          0.15585415450420628,
          0.15619201703707403,
          0.5208202337112622,
          -0.5158675066126549,
          0.10938751812063244,
          0.7790568611734908,
          -0.14866131688897102,
          0.22904687243044902,
          0.20035657834973752,
          -1.126888362459341,
          0.4097872747033258,
          0.6842984442432642,
          0.3688024917151005,
          -0.40202399322901444
         ],
         "y": [
          0.26181963975297495,
          0.0064282301736281145,
          -0.058657956202857825,
          -0.8784180543475879,
          -0.6440482217931074,
          -1.263348582677857,
          -0.3692778667974693,
          0.8895677637460665,
          0.10863755405308405,
          -0.9077899097888861,
          -0.07042174727389802,
          0.10656275236823586,
          0.47986290689751815,
          -0.2284645087350639,
          0.027797025827139513,
          0.18946093716525994,
          0.28444419633384516,
          0.7289589483123577,
          -0.1278000535762299,
          0.13382225350778487,
          0.7458273195668532,
          0.6350758882588201,
          0.7216376038298542,
          -0.25236056772881776,
          -0.9309950389803634,
          -0.06929327204732151,
          -0.647408365746856,
          0.21996987792605494,
          -0.7002387937878362,
          -0.44533597543092207,
          0.2740616363677938,
          1.18193727012419,
          -0.4928438417045549,
          -0.4902933182804519,
          0.533667316471014,
          0.14828956470638655,
          0.007163989818034687,
          -0.08379917881034545,
          0.38928985945060374,
          0.18037708688586102,
          0.05989973116606418,
          0.8153887138396144,
          0.4179646465621815,
          0.0738185353690285,
          -0.09239697326351307,
          1.0807160061946477,
          0.34974758892002333,
          0.8530038535058262,
          -0.8010941098131114,
          -0.758042267094952,
          0.2818238617512671,
          -0.0783528356138111,
          0.277283685292009,
          -0.5114128453900936
         ]
        }
       ],
       "layout": {
        "template": {
         "data": {
          "bar": [
           {
            "error_x": {
             "color": "#2a3f5f"
            },
            "error_y": {
             "color": "#2a3f5f"
            },
            "marker": {
             "line": {
              "color": "#E5ECF6",
              "width": 0.5
             }
            },
            "type": "bar"
           }
          ],
          "barpolar": [
           {
            "marker": {
             "line": {
              "color": "#E5ECF6",
              "width": 0.5
             }
            },
            "type": "barpolar"
           }
          ],
          "carpet": [
           {
            "aaxis": {
             "endlinecolor": "#2a3f5f",
             "gridcolor": "white",
             "linecolor": "white",
             "minorgridcolor": "white",
             "startlinecolor": "#2a3f5f"
            },
            "baxis": {
             "endlinecolor": "#2a3f5f",
             "gridcolor": "white",
             "linecolor": "white",
             "minorgridcolor": "white",
             "startlinecolor": "#2a3f5f"
            },
            "type": "carpet"
           }
          ],
          "choropleth": [
           {
            "colorbar": {
             "outlinewidth": 0,
             "ticks": ""
            },
            "type": "choropleth"
           }
          ],
          "contour": [
           {
            "colorbar": {
             "outlinewidth": 0,
             "ticks": ""
            },
            "colorscale": [
             [
              0,
              "#0d0887"
             ],
             [
              0.1111111111111111,
              "#46039f"
             ],
             [
              0.2222222222222222,
              "#7201a8"
             ],
             [
              0.3333333333333333,
              "#9c179e"
             ],
             [
              0.4444444444444444,
              "#bd3786"
             ],
             [
              0.5555555555555556,
              "#d8576b"
             ],
             [
              0.6666666666666666,
              "#ed7953"
             ],
             [
              0.7777777777777778,
              "#fb9f3a"
             ],
             [
              0.8888888888888888,
              "#fdca26"
             ],
             [
              1,
              "#f0f921"
             ]
            ],
            "type": "contour"
           }
          ],
          "contourcarpet": [
           {
            "colorbar": {
             "outlinewidth": 0,
             "ticks": ""
            },
            "type": "contourcarpet"
           }
          ],
          "heatmap": [
           {
            "colorbar": {
             "outlinewidth": 0,
             "ticks": ""
            },
            "colorscale": [
             [
              0,
              "#0d0887"
             ],
             [
              0.1111111111111111,
              "#46039f"
             ],
             [
              0.2222222222222222,
              "#7201a8"
             ],
             [
              0.3333333333333333,
              "#9c179e"
             ],
             [
              0.4444444444444444,
              "#bd3786"
             ],
             [
              0.5555555555555556,
              "#d8576b"
             ],
             [
              0.6666666666666666,
              "#ed7953"
             ],
             [
              0.7777777777777778,
              "#fb9f3a"
             ],
             [
              0.8888888888888888,
              "#fdca26"
             ],
             [
              1,
              "#f0f921"
             ]
            ],
            "type": "heatmap"
           }
          ],
          "heatmapgl": [
           {
            "colorbar": {
             "outlinewidth": 0,
             "ticks": ""
            },
            "colorscale": [
             [
              0,
              "#0d0887"
             ],
             [
              0.1111111111111111,
              "#46039f"
             ],
             [
              0.2222222222222222,
              "#7201a8"
             ],
             [
              0.3333333333333333,
              "#9c179e"
             ],
             [
              0.4444444444444444,
              "#bd3786"
             ],
             [
              0.5555555555555556,
              "#d8576b"
             ],
             [
              0.6666666666666666,
              "#ed7953"
             ],
             [
              0.7777777777777778,
              "#fb9f3a"
             ],
             [
              0.8888888888888888,
              "#fdca26"
             ],
             [
              1,
              "#f0f921"
             ]
            ],
            "type": "heatmapgl"
           }
          ],
          "histogram": [
           {
            "marker": {
             "colorbar": {
              "outlinewidth": 0,
              "ticks": ""
             }
            },
            "type": "histogram"
           }
          ],
          "histogram2d": [
           {
            "colorbar": {
             "outlinewidth": 0,
             "ticks": ""
            },
            "colorscale": [
             [
              0,
              "#0d0887"
             ],
             [
              0.1111111111111111,
              "#46039f"
             ],
             [
              0.2222222222222222,
              "#7201a8"
             ],
             [
              0.3333333333333333,
              "#9c179e"
             ],
             [
              0.4444444444444444,
              "#bd3786"
             ],
             [
              0.5555555555555556,
              "#d8576b"
             ],
             [
              0.6666666666666666,
              "#ed7953"
             ],
             [
              0.7777777777777778,
              "#fb9f3a"
             ],
             [
              0.8888888888888888,
              "#fdca26"
             ],
             [
              1,
              "#f0f921"
             ]
            ],
            "type": "histogram2d"
           }
          ],
          "histogram2dcontour": [
           {
            "colorbar": {
             "outlinewidth": 0,
             "ticks": ""
            },
            "colorscale": [
             [
              0,
              "#0d0887"
             ],
             [
              0.1111111111111111,
              "#46039f"
             ],
             [
              0.2222222222222222,
              "#7201a8"
             ],
             [
              0.3333333333333333,
              "#9c179e"
             ],
             [
              0.4444444444444444,
              "#bd3786"
             ],
             [
              0.5555555555555556,
              "#d8576b"
             ],
             [
              0.6666666666666666,
              "#ed7953"
             ],
             [
              0.7777777777777778,
              "#fb9f3a"
             ],
             [
              0.8888888888888888,
              "#fdca26"
             ],
             [
              1,
              "#f0f921"
             ]
            ],
            "type": "histogram2dcontour"
           }
          ],
          "mesh3d": [
           {
            "colorbar": {
             "outlinewidth": 0,
             "ticks": ""
            },
            "type": "mesh3d"
           }
          ],
          "parcoords": [
           {
            "line": {
             "colorbar": {
              "outlinewidth": 0,
              "ticks": ""
             }
            },
            "type": "parcoords"
           }
          ],
          "pie": [
           {
            "automargin": true,
            "type": "pie"
           }
          ],
          "scatter": [
           {
            "marker": {
             "colorbar": {
              "outlinewidth": 0,
              "ticks": ""
             }
            },
            "type": "scatter"
           }
          ],
          "scatter3d": [
           {
            "line": {
             "colorbar": {
              "outlinewidth": 0,
              "ticks": ""
             }
            },
            "marker": {
             "colorbar": {
              "outlinewidth": 0,
              "ticks": ""
             }
            },
            "type": "scatter3d"
           }
          ],
          "scattercarpet": [
           {
            "marker": {
             "colorbar": {
              "outlinewidth": 0,
              "ticks": ""
             }
            },
            "type": "scattercarpet"
           }
          ],
          "scattergeo": [
           {
            "marker": {
             "colorbar": {
              "outlinewidth": 0,
              "ticks": ""
             }
            },
            "type": "scattergeo"
           }
          ],
          "scattergl": [
           {
            "marker": {
             "colorbar": {
              "outlinewidth": 0,
              "ticks": ""
             }
            },
            "type": "scattergl"
           }
          ],
          "scattermapbox": [
           {
            "marker": {
             "colorbar": {
              "outlinewidth": 0,
              "ticks": ""
             }
            },
            "type": "scattermapbox"
           }
          ],
          "scatterpolar": [
           {
            "marker": {
             "colorbar": {
              "outlinewidth": 0,
              "ticks": ""
             }
            },
            "type": "scatterpolar"
           }
          ],
          "scatterpolargl": [
           {
            "marker": {
             "colorbar": {
              "outlinewidth": 0,
              "ticks": ""
             }
            },
            "type": "scatterpolargl"
           }
          ],
          "scatterternary": [
           {
            "marker": {
             "colorbar": {
              "outlinewidth": 0,
              "ticks": ""
             }
            },
            "type": "scatterternary"
           }
          ],
          "surface": [
           {
            "colorbar": {
             "outlinewidth": 0,
             "ticks": ""
            },
            "colorscale": [
             [
              0,
              "#0d0887"
             ],
             [
              0.1111111111111111,
              "#46039f"
             ],
             [
              0.2222222222222222,
              "#7201a8"
             ],
             [
              0.3333333333333333,
              "#9c179e"
             ],
             [
              0.4444444444444444,
              "#bd3786"
             ],
             [
              0.5555555555555556,
              "#d8576b"
             ],
             [
              0.6666666666666666,
              "#ed7953"
             ],
             [
              0.7777777777777778,
              "#fb9f3a"
             ],
             [
              0.8888888888888888,
              "#fdca26"
             ],
             [
              1,
              "#f0f921"
             ]
            ],
            "type": "surface"
           }
          ],
          "table": [
           {
            "cells": {
             "fill": {
              "color": "#EBF0F8"
             },
             "line": {
              "color": "white"
             }
            },
            "header": {
             "fill": {
              "color": "#C8D4E3"
             },
             "line": {
              "color": "white"
             }
            },
            "type": "table"
           }
          ]
         },
         "layout": {
          "annotationdefaults": {
           "arrowcolor": "#2a3f5f",
           "arrowhead": 0,
           "arrowwidth": 1
          },
          "autotypenumbers": "strict",
          "coloraxis": {
           "colorbar": {
            "outlinewidth": 0,
            "ticks": ""
           }
          },
          "colorscale": {
           "diverging": [
            [
             0,
             "#8e0152"
            ],
            [
             0.1,
             "#c51b7d"
            ],
            [
             0.2,
             "#de77ae"
            ],
            [
             0.3,
             "#f1b6da"
            ],
            [
             0.4,
             "#fde0ef"
            ],
            [
             0.5,
             "#f7f7f7"
            ],
            [
             0.6,
             "#e6f5d0"
            ],
            [
             0.7,
             "#b8e186"
            ],
            [
             0.8,
             "#7fbc41"
            ],
            [
             0.9,
             "#4d9221"
            ],
            [
             1,
             "#276419"
            ]
           ],
           "sequential": [
            [
             0,
             "#0d0887"
            ],
            [
             0.1111111111111111,
             "#46039f"
            ],
            [
             0.2222222222222222,
             "#7201a8"
            ],
            [
             0.3333333333333333,
             "#9c179e"
            ],
            [
             0.4444444444444444,
             "#bd3786"
            ],
            [
             0.5555555555555556,
             "#d8576b"
            ],
            [
             0.6666666666666666,
             "#ed7953"
            ],
            [
             0.7777777777777778,
             "#fb9f3a"
            ],
            [
             0.8888888888888888,
             "#fdca26"
            ],
            [
             1,
             "#f0f921"
            ]
           ],
           "sequentialminus": [
            [
             0,
             "#0d0887"
            ],
            [
             0.1111111111111111,
             "#46039f"
            ],
            [
             0.2222222222222222,
             "#7201a8"
            ],
            [
             0.3333333333333333,
             "#9c179e"
            ],
            [
             0.4444444444444444,
             "#bd3786"
            ],
            [
             0.5555555555555556,
             "#d8576b"
            ],
            [
             0.6666666666666666,
             "#ed7953"
            ],
            [
             0.7777777777777778,
             "#fb9f3a"
            ],
            [
             0.8888888888888888,
             "#fdca26"
            ],
            [
             1,
             "#f0f921"
            ]
           ]
          },
          "colorway": [
           "#636efa",
           "#EF553B",
           "#00cc96",
           "#ab63fa",
           "#FFA15A",
           "#19d3f3",
           "#FF6692",
           "#B6E880",
           "#FF97FF",
           "#FECB52"
          ],
          "font": {
           "color": "#2a3f5f"
          },
          "geo": {
           "bgcolor": "white",
           "lakecolor": "white",
           "landcolor": "#E5ECF6",
           "showlakes": true,
           "showland": true,
           "subunitcolor": "white"
          },
          "hoverlabel": {
           "align": "left"
          },
          "hovermode": "closest",
          "mapbox": {
           "style": "light"
          },
          "paper_bgcolor": "white",
          "plot_bgcolor": "#E5ECF6",
          "polar": {
           "angularaxis": {
            "gridcolor": "white",
            "linecolor": "white",
            "ticks": ""
           },
           "bgcolor": "#E5ECF6",
           "radialaxis": {
            "gridcolor": "white",
            "linecolor": "white",
            "ticks": ""
           }
          },
          "scene": {
           "xaxis": {
            "backgroundcolor": "#E5ECF6",
            "gridcolor": "white",
            "gridwidth": 2,
            "linecolor": "white",
            "showbackground": true,
            "ticks": "",
            "zerolinecolor": "white"
           },
           "yaxis": {
            "backgroundcolor": "#E5ECF6",
            "gridcolor": "white",
            "gridwidth": 2,
            "linecolor": "white",
            "showbackground": true,
            "ticks": "",
            "zerolinecolor": "white"
           },
           "zaxis": {
            "backgroundcolor": "#E5ECF6",
            "gridcolor": "white",
            "gridwidth": 2,
            "linecolor": "white",
            "showbackground": true,
            "ticks": "",
            "zerolinecolor": "white"
           }
          },
          "shapedefaults": {
           "line": {
            "color": "#2a3f5f"
           }
          },
          "ternary": {
           "aaxis": {
            "gridcolor": "white",
            "linecolor": "white",
            "ticks": ""
           },
           "baxis": {
            "gridcolor": "white",
            "linecolor": "white",
            "ticks": ""
           },
           "bgcolor": "#E5ECF6",
           "caxis": {
            "gridcolor": "white",
            "linecolor": "white",
            "ticks": ""
           }
          },
          "title": {
           "x": 0.05
          },
          "xaxis": {
           "automargin": true,
           "gridcolor": "white",
           "linecolor": "white",
           "ticks": "",
           "title": {
            "standoff": 15
           },
           "zerolinecolor": "white",
           "zerolinewidth": 2
          },
          "yaxis": {
           "automargin": true,
           "gridcolor": "white",
           "linecolor": "white",
           "ticks": "",
           "title": {
            "standoff": 15
           },
           "zerolinecolor": "white",
           "zerolinewidth": 2
          }
         }
        },
        "title": {
         "text": "Visualizing Clusters in Two Dimensions Using PCA"
        },
        "xaxis": {
         "ticklen": 5,
         "title": {
          "text": "PC1"
         },
         "zeroline": false
        },
        "yaxis": {
         "ticklen": 5,
         "title": {
          "text": "PC2"
         },
         "zeroline": false
        }
       }
      },
      "text/html": [
       "<div>                            <div id=\"1d8a3610-fa94-4897-a828-4aececf7a26e\" class=\"plotly-graph-div\" style=\"height:525px; width:100%;\"></div>            <script type=\"text/javascript\">                require([\"plotly\"], function(Plotly) {                    window.PLOTLYENV=window.PLOTLYENV || {};                                    if (document.getElementById(\"1d8a3610-fa94-4897-a828-4aececf7a26e\")) {                    Plotly.newPlot(                        \"1d8a3610-fa94-4897-a828-4aececf7a26e\",                        [{\"marker\": {\"color\": \"rgba(255, 128, 255, 0.8)\"}, \"mode\": \"markers\", \"name\": \"Cluster 0\", \"type\": \"scatter\", \"x\": [-0.9541687605767896, -0.8669874348379388, -1.1825030721831562, 0.33018217476939155, -1.068963569124556, -1.7959882025906542, -1.0459620824829554, -0.5050012322651036], \"y\": [-1.0162774867380917, -0.7204800144043166, -1.1644199774976391, -0.6364401406787101, -1.1512336021900857, -0.5586701464044846, -0.5677792063359597, -1.3757224489206796]}, {\"marker\": {\"color\": \"rgba(255, 128, 2, 0.8)\"}, \"mode\": \"markers\", \"name\": \"Cluster 1\", \"type\": \"scatter\", \"x\": [1.228228605024297, -0.0900661697234878, -0.040034592082644704, 3.152518180756914, 2.287885659437627, 1.3691634957907983, 1.3054849833796234, 0.8484983584279177, 4.562604180449851], \"y\": [0.10239097427611364, -2.039543755917458, -2.1741210332276535, -4.449526405379755, -2.0572190063619393, -0.5860678621098879, -1.4582904891212272, -2.4137979565680965, -3.1358997337275407]}, {\"marker\": {\"color\": \"rgba(0, 135, 200, 0.8)\"}, \"mode\": \"markers\", \"name\": \"Photography\", \"type\": \"scatter\", \"x\": [2.051365633447847, 2.0501345847568433, 3.0233553790549967, 2.3317742192759727, 3.4719317807887538, 1.469202974946937, 0.43136861063741677, 0.9211203217014604, 1.9979233640954472, 2.278760111697372, 3.216283724355382, 1.6289187682398232, 1.7799246039925696, 1.8273370031841767, 1.5612701842054975, 1.3731858511307369, 1.2383967419238675, 2.1654509758242484, 1.7215929425171337, 1.7236292878860213, 1.8532672938222317, 1.3293978724215259, 0.3394362485076554, 1.963492607024624, 0.7100070292287772, 1.7381839909757135, 1.9087817805938414, 0.7461289689352134], \"y\": [0.4735628211592762, -0.7498219418979637, -1.7651777958017283, -1.7280993489321308, -1.3479064566416552, 0.9633940984981669, 0.4961659767525732, -0.4313044323925525, -1.2704051085157222, -1.9209576635706282, -2.0520254521922734, -0.4203128274259217, -1.0255739360248082, -0.32091135605501353, -0.022363180528684506, -0.3284722818443162, -0.0001244089599507883, -1.049944059179883, 0.8052392144483028, -0.4478273532041043, -0.7171883098593635, -1.1957810412558385, -0.6329446437144962, 0.22116128854701464, -0.710586643312545, -0.28822230380734215, -0.8596614676208171, -0.43030733305351027]}, {\"marker\": {\"color\": \"rgba(0, 105, 50, 0.8)\"}, \"mode\": \"markers\", \"name\": \"Food\", \"type\": \"scatter\", \"x\": [-1.49255024809524, -1.4591257152470394, -1.648917832869049, -1.6213731016331325, -1.5973178897581097, -2.3126389780591303, -1.342998851005585, -2.068779969189513, -2.5115408991161674, -2.8197752296669294, -2.8273738889014894, -2.933376947427379, -2.7859343119702764, -2.5406798656144134, -1.4669259999658983, -1.5896546716840438, -1.7609530875402453, -3.0575666182762995, -2.080191267665669, -2.161839168919216, -2.2588008000287716, -1.679408759515035, -2.3022741632494776, -1.6701138303795067, -2.7683170385822775, -2.1594663954180104, -2.867906766035307, -2.881194491035128], \"y\": [-0.2658364425279835, 0.015294270938254763, -0.26607512616070295, -0.402916639986048, -1.1548042743811258, -0.637153236645647, -0.7052044559042706, -0.3810219994735326, -0.5333674864883176, -0.5585164501346268, -0.8542217301566452, -0.8985537353519188, -1.0934614079230875, -1.0150815138011766, -0.10890705080461088, -1.8143309036869613, -0.869506851437807, -1.126373765540017, -0.3865232582118155, -0.6156750700184569, -0.8310857864565541, -0.1619614916511893, -0.29086767362922034, -0.2988056091947235, -0.48094492161977825, -0.09930943582324704, -1.0338616889567611, -0.7946594783828942]}, {\"marker\": {\"color\": \"rgba(50, 25, 210, 0.8)\"}, \"mode\": \"markers\", \"name\": \"Cluster 4\", \"type\": \"scatter\", \"x\": [2.0240379756311304, 1.202659720695166, 0.18594181736172213, 0.6428200581400089, 1.3904811878070322, -0.29734572576050805, 0.8929001555412633, 1.5670453310461137, 0.39996948438491736, -0.09251662687608457, 0.5367929673937637, 0.20794783322481297, 0.08117409851955219, 0.29975959949275754, -0.2633479793817486, 0.300321706848922, -0.1866075795064931, 0.18512191997353833, 0.5079070432954381, 0.08209412819167457, -0.453474013013545, -0.09568448104548859, 0.02196113449304669], \"y\": [4.802760974965863, 2.4679025076659964, 2.6473336318083, 2.2162428501149782, 4.964510387320434, 3.4056582739092467, 1.6604746393948127, 1.3818717302885046, 3.7165498911647052, 3.5868287798102365, 0.9438323215195871, 1.3164407440065269, 1.2878645565888283, 3.533416449384032, 2.1008419241078657, 1.2986126257065533, 2.6204900257863053, 3.2935060536201735, 1.6478159453776957, 2.2653660003275746, 2.1416647364811823, 3.37473205910859, 1.586298383388075]}, {\"marker\": {\"color\": \"rgba(70, 195, 100, 0.8)\"}, \"mode\": \"markers\", \"name\": \"Fashion\", \"type\": \"scatter\", \"x\": [0.6345312143125275, -0.3380949070609553, -0.8305246591230361, 0.2775301086270879, -0.9629327696666672, 0.07255480055856654, 0.22967172684391532, 0.4073464480443296, -1.2985747165240886, 1.2143710013982103, -1.0365168842274035, -0.7665373098840739, 0.4942857987418079, -0.0606457238965456, -0.04038513765138775, -0.036647586211313164, 0.41565526978490397, 0.572692545986559, -0.361121291780297, 0.9221140766874474, -0.924435954459483, -0.2441265056997146, -1.1616794963350334, -0.5173163387832302, -0.6228897045868657, -0.7998638157041573, 0.40160081489849697, -0.9339868473102378, 0.03241857172496963, -0.4709909872879596, 0.08548718775236593, -0.049252923938835166, -0.3196293185226985, 0.5504684385563567, -0.658789573614981, 0.2787388162997789, -1.0238757737180015, -0.5415553481469704, 0.7513114182200042, 0.3799577219481717, 0.15585415450420628, 0.15619201703707403, 0.5208202337112622, -0.5158675066126549, 0.10938751812063244, 0.7790568611734908, -0.14866131688897102, 0.22904687243044902, 0.20035657834973752, -1.126888362459341, 0.4097872747033258, 0.6842984442432642, 0.3688024917151005, -0.40202399322901444], \"y\": [0.26181963975297495, 0.0064282301736281145, -0.058657956202857825, -0.8784180543475879, -0.6440482217931074, -1.263348582677857, -0.3692778667974693, 0.8895677637460665, 0.10863755405308405, -0.9077899097888861, -0.07042174727389802, 0.10656275236823586, 0.47986290689751815, -0.2284645087350639, 0.027797025827139513, 0.18946093716525994, 0.28444419633384516, 0.7289589483123577, -0.1278000535762299, 0.13382225350778487, 0.7458273195668532, 0.6350758882588201, 0.7216376038298542, -0.25236056772881776, -0.9309950389803634, -0.06929327204732151, -0.647408365746856, 0.21996987792605494, -0.7002387937878362, -0.44533597543092207, 0.2740616363677938, 1.18193727012419, -0.4928438417045549, -0.4902933182804519, 0.533667316471014, 0.14828956470638655, 0.007163989818034687, -0.08379917881034545, 0.38928985945060374, 0.18037708688586102, 0.05989973116606418, 0.8153887138396144, 0.4179646465621815, 0.0738185353690285, -0.09239697326351307, 1.0807160061946477, 0.34974758892002333, 0.8530038535058262, -0.8010941098131114, -0.758042267094952, 0.2818238617512671, -0.0783528356138111, 0.277283685292009, -0.5114128453900936]}],                        {\"template\": {\"data\": {\"bar\": [{\"error_x\": {\"color\": \"#2a3f5f\"}, \"error_y\": {\"color\": \"#2a3f5f\"}, \"marker\": {\"line\": {\"color\": \"#E5ECF6\", \"width\": 0.5}}, \"type\": \"bar\"}], \"barpolar\": [{\"marker\": {\"line\": {\"color\": \"#E5ECF6\", \"width\": 0.5}}, \"type\": \"barpolar\"}], \"carpet\": [{\"aaxis\": {\"endlinecolor\": \"#2a3f5f\", \"gridcolor\": \"white\", \"linecolor\": \"white\", \"minorgridcolor\": \"white\", \"startlinecolor\": \"#2a3f5f\"}, \"baxis\": {\"endlinecolor\": \"#2a3f5f\", \"gridcolor\": \"white\", \"linecolor\": \"white\", \"minorgridcolor\": \"white\", \"startlinecolor\": \"#2a3f5f\"}, \"type\": \"carpet\"}], \"choropleth\": [{\"colorbar\": {\"outlinewidth\": 0, \"ticks\": \"\"}, \"type\": \"choropleth\"}], \"contour\": [{\"colorbar\": {\"outlinewidth\": 0, \"ticks\": \"\"}, \"colorscale\": [[0.0, \"#0d0887\"], [0.1111111111111111, \"#46039f\"], [0.2222222222222222, \"#7201a8\"], [0.3333333333333333, \"#9c179e\"], [0.4444444444444444, \"#bd3786\"], [0.5555555555555556, \"#d8576b\"], [0.6666666666666666, \"#ed7953\"], [0.7777777777777778, \"#fb9f3a\"], [0.8888888888888888, \"#fdca26\"], [1.0, \"#f0f921\"]], \"type\": \"contour\"}], \"contourcarpet\": [{\"colorbar\": {\"outlinewidth\": 0, \"ticks\": \"\"}, \"type\": \"contourcarpet\"}], \"heatmap\": [{\"colorbar\": {\"outlinewidth\": 0, \"ticks\": \"\"}, \"colorscale\": [[0.0, \"#0d0887\"], [0.1111111111111111, \"#46039f\"], [0.2222222222222222, \"#7201a8\"], [0.3333333333333333, \"#9c179e\"], [0.4444444444444444, \"#bd3786\"], [0.5555555555555556, \"#d8576b\"], [0.6666666666666666, \"#ed7953\"], [0.7777777777777778, \"#fb9f3a\"], [0.8888888888888888, \"#fdca26\"], [1.0, \"#f0f921\"]], \"type\": \"heatmap\"}], \"heatmapgl\": [{\"colorbar\": {\"outlinewidth\": 0, \"ticks\": \"\"}, \"colorscale\": [[0.0, \"#0d0887\"], [0.1111111111111111, \"#46039f\"], [0.2222222222222222, \"#7201a8\"], [0.3333333333333333, \"#9c179e\"], [0.4444444444444444, \"#bd3786\"], [0.5555555555555556, \"#d8576b\"], [0.6666666666666666, \"#ed7953\"], [0.7777777777777778, \"#fb9f3a\"], [0.8888888888888888, \"#fdca26\"], [1.0, \"#f0f921\"]], \"type\": \"heatmapgl\"}], \"histogram\": [{\"marker\": {\"colorbar\": {\"outlinewidth\": 0, \"ticks\": \"\"}}, \"type\": \"histogram\"}], \"histogram2d\": [{\"colorbar\": {\"outlinewidth\": 0, \"ticks\": \"\"}, \"colorscale\": [[0.0, \"#0d0887\"], [0.1111111111111111, \"#46039f\"], [0.2222222222222222, \"#7201a8\"], [0.3333333333333333, \"#9c179e\"], [0.4444444444444444, \"#bd3786\"], [0.5555555555555556, \"#d8576b\"], [0.6666666666666666, \"#ed7953\"], [0.7777777777777778, \"#fb9f3a\"], [0.8888888888888888, \"#fdca26\"], [1.0, \"#f0f921\"]], \"type\": \"histogram2d\"}], \"histogram2dcontour\": [{\"colorbar\": {\"outlinewidth\": 0, \"ticks\": \"\"}, \"colorscale\": [[0.0, \"#0d0887\"], [0.1111111111111111, \"#46039f\"], [0.2222222222222222, \"#7201a8\"], [0.3333333333333333, \"#9c179e\"], [0.4444444444444444, \"#bd3786\"], [0.5555555555555556, \"#d8576b\"], [0.6666666666666666, \"#ed7953\"], [0.7777777777777778, \"#fb9f3a\"], [0.8888888888888888, \"#fdca26\"], [1.0, \"#f0f921\"]], \"type\": \"histogram2dcontour\"}], \"mesh3d\": [{\"colorbar\": {\"outlinewidth\": 0, \"ticks\": \"\"}, \"type\": \"mesh3d\"}], \"parcoords\": [{\"line\": {\"colorbar\": {\"outlinewidth\": 0, \"ticks\": \"\"}}, \"type\": \"parcoords\"}], \"pie\": [{\"automargin\": true, \"type\": \"pie\"}], \"scatter\": [{\"marker\": {\"colorbar\": {\"outlinewidth\": 0, \"ticks\": \"\"}}, \"type\": \"scatter\"}], \"scatter3d\": [{\"line\": {\"colorbar\": {\"outlinewidth\": 0, \"ticks\": \"\"}}, \"marker\": {\"colorbar\": {\"outlinewidth\": 0, \"ticks\": \"\"}}, \"type\": \"scatter3d\"}], \"scattercarpet\": [{\"marker\": {\"colorbar\": {\"outlinewidth\": 0, \"ticks\": \"\"}}, \"type\": \"scattercarpet\"}], \"scattergeo\": [{\"marker\": {\"colorbar\": {\"outlinewidth\": 0, \"ticks\": \"\"}}, \"type\": \"scattergeo\"}], \"scattergl\": [{\"marker\": {\"colorbar\": {\"outlinewidth\": 0, \"ticks\": \"\"}}, \"type\": \"scattergl\"}], \"scattermapbox\": [{\"marker\": {\"colorbar\": {\"outlinewidth\": 0, \"ticks\": \"\"}}, \"type\": \"scattermapbox\"}], \"scatterpolar\": [{\"marker\": {\"colorbar\": {\"outlinewidth\": 0, \"ticks\": \"\"}}, \"type\": \"scatterpolar\"}], \"scatterpolargl\": [{\"marker\": {\"colorbar\": {\"outlinewidth\": 0, \"ticks\": \"\"}}, \"type\": \"scatterpolargl\"}], \"scatterternary\": [{\"marker\": {\"colorbar\": {\"outlinewidth\": 0, \"ticks\": \"\"}}, \"type\": \"scatterternary\"}], \"surface\": [{\"colorbar\": {\"outlinewidth\": 0, \"ticks\": \"\"}, \"colorscale\": [[0.0, \"#0d0887\"], [0.1111111111111111, \"#46039f\"], [0.2222222222222222, \"#7201a8\"], [0.3333333333333333, \"#9c179e\"], [0.4444444444444444, \"#bd3786\"], [0.5555555555555556, \"#d8576b\"], [0.6666666666666666, \"#ed7953\"], [0.7777777777777778, \"#fb9f3a\"], [0.8888888888888888, \"#fdca26\"], [1.0, \"#f0f921\"]], \"type\": \"surface\"}], \"table\": [{\"cells\": {\"fill\": {\"color\": \"#EBF0F8\"}, \"line\": {\"color\": \"white\"}}, \"header\": {\"fill\": {\"color\": \"#C8D4E3\"}, \"line\": {\"color\": \"white\"}}, \"type\": \"table\"}]}, \"layout\": {\"annotationdefaults\": {\"arrowcolor\": \"#2a3f5f\", \"arrowhead\": 0, \"arrowwidth\": 1}, \"autotypenumbers\": \"strict\", \"coloraxis\": {\"colorbar\": {\"outlinewidth\": 0, \"ticks\": \"\"}}, \"colorscale\": {\"diverging\": [[0, \"#8e0152\"], [0.1, \"#c51b7d\"], [0.2, \"#de77ae\"], [0.3, \"#f1b6da\"], [0.4, \"#fde0ef\"], [0.5, \"#f7f7f7\"], [0.6, \"#e6f5d0\"], [0.7, \"#b8e186\"], [0.8, \"#7fbc41\"], [0.9, \"#4d9221\"], [1, \"#276419\"]], \"sequential\": [[0.0, \"#0d0887\"], [0.1111111111111111, \"#46039f\"], [0.2222222222222222, \"#7201a8\"], [0.3333333333333333, \"#9c179e\"], [0.4444444444444444, \"#bd3786\"], [0.5555555555555556, \"#d8576b\"], [0.6666666666666666, \"#ed7953\"], [0.7777777777777778, \"#fb9f3a\"], [0.8888888888888888, \"#fdca26\"], [1.0, \"#f0f921\"]], \"sequentialminus\": [[0.0, \"#0d0887\"], [0.1111111111111111, \"#46039f\"], [0.2222222222222222, \"#7201a8\"], [0.3333333333333333, \"#9c179e\"], [0.4444444444444444, \"#bd3786\"], [0.5555555555555556, \"#d8576b\"], [0.6666666666666666, \"#ed7953\"], [0.7777777777777778, \"#fb9f3a\"], [0.8888888888888888, \"#fdca26\"], [1.0, \"#f0f921\"]]}, \"colorway\": [\"#636efa\", \"#EF553B\", \"#00cc96\", \"#ab63fa\", \"#FFA15A\", \"#19d3f3\", \"#FF6692\", \"#B6E880\", \"#FF97FF\", \"#FECB52\"], \"font\": {\"color\": \"#2a3f5f\"}, \"geo\": {\"bgcolor\": \"white\", \"lakecolor\": \"white\", \"landcolor\": \"#E5ECF6\", \"showlakes\": true, \"showland\": true, \"subunitcolor\": \"white\"}, \"hoverlabel\": {\"align\": \"left\"}, \"hovermode\": \"closest\", \"mapbox\": {\"style\": \"light\"}, \"paper_bgcolor\": \"white\", \"plot_bgcolor\": \"#E5ECF6\", \"polar\": {\"angularaxis\": {\"gridcolor\": \"white\", \"linecolor\": \"white\", \"ticks\": \"\"}, \"bgcolor\": \"#E5ECF6\", \"radialaxis\": {\"gridcolor\": \"white\", \"linecolor\": \"white\", \"ticks\": \"\"}}, \"scene\": {\"xaxis\": {\"backgroundcolor\": \"#E5ECF6\", \"gridcolor\": \"white\", \"gridwidth\": 2, \"linecolor\": \"white\", \"showbackground\": true, \"ticks\": \"\", \"zerolinecolor\": \"white\"}, \"yaxis\": {\"backgroundcolor\": \"#E5ECF6\", \"gridcolor\": \"white\", \"gridwidth\": 2, \"linecolor\": \"white\", \"showbackground\": true, \"ticks\": \"\", \"zerolinecolor\": \"white\"}, \"zaxis\": {\"backgroundcolor\": \"#E5ECF6\", \"gridcolor\": \"white\", \"gridwidth\": 2, \"linecolor\": \"white\", \"showbackground\": true, \"ticks\": \"\", \"zerolinecolor\": \"white\"}}, \"shapedefaults\": {\"line\": {\"color\": \"#2a3f5f\"}}, \"ternary\": {\"aaxis\": {\"gridcolor\": \"white\", \"linecolor\": \"white\", \"ticks\": \"\"}, \"baxis\": {\"gridcolor\": \"white\", \"linecolor\": \"white\", \"ticks\": \"\"}, \"bgcolor\": \"#E5ECF6\", \"caxis\": {\"gridcolor\": \"white\", \"linecolor\": \"white\", \"ticks\": \"\"}}, \"title\": {\"x\": 0.05}, \"xaxis\": {\"automargin\": true, \"gridcolor\": \"white\", \"linecolor\": \"white\", \"ticks\": \"\", \"title\": {\"standoff\": 15}, \"zerolinecolor\": \"white\", \"zerolinewidth\": 2}, \"yaxis\": {\"automargin\": true, \"gridcolor\": \"white\", \"linecolor\": \"white\", \"ticks\": \"\", \"title\": {\"standoff\": 15}, \"zerolinecolor\": \"white\", \"zerolinewidth\": 2}}}, \"title\": {\"text\": \"Visualizing Clusters in Two Dimensions Using PCA\"}, \"xaxis\": {\"ticklen\": 5, \"title\": {\"text\": \"PC1\"}, \"zeroline\": false}, \"yaxis\": {\"ticklen\": 5, \"title\": {\"text\": \"PC2\"}, \"zeroline\": false}},                        {\"responsive\": true}                    ).then(function(){\n",
       "                            \n",
       "var gd = document.getElementById('1d8a3610-fa94-4897-a828-4aececf7a26e');\n",
       "var x = new MutationObserver(function (mutations, observer) {{\n",
       "        var display = window.getComputedStyle(gd).display;\n",
       "        if (!display || display === 'none') {{\n",
       "            console.log([gd, 'removed!']);\n",
       "            Plotly.purge(gd);\n",
       "            observer.disconnect();\n",
       "        }}\n",
       "}});\n",
       "\n",
       "// Listen for the removal of the full notebook cells\n",
       "var notebookContainer = gd.closest('#notebook-container');\n",
       "if (notebookContainer) {{\n",
       "    x.observe(notebookContainer, {childList: true});\n",
       "}}\n",
       "\n",
       "// Listen for the clearing of the current output cell\n",
       "var outputEl = gd.closest('.output');\n",
       "if (outputEl) {{\n",
       "    x.observe(outputEl, {childList: true});\n",
       "}}\n",
       "\n",
       "                        })                };                });            </script>        </div>"
      ]
     },
     "metadata": {},
     "output_type": "display_data"
    }
   ],
   "source": [
    "#trace1 is for 'Cluster 0'\n",
    "trace1 = go.Scatter(\n",
    "                    x = cluster0[\"PC1_2d\"],\n",
    "                    y = cluster0[\"PC2_2d\"],\n",
    "                    mode = \"markers\",\n",
    "                    name = \"Cluster 0\",\n",
    "                    marker = dict(color = 'rgba(255, 128, 255, 0.8)'),\n",
    "                    text = None)\n",
    "\n",
    "#trace2 is for 'Cluster 1'\n",
    "trace2 = go.Scatter(\n",
    "                    x = cluster1[\"PC1_2d\"],\n",
    "                    y = cluster1[\"PC2_2d\"],\n",
    "                    mode = \"markers\",\n",
    "                    name = \"Cluster 1\",\n",
    "                    marker = dict(color = 'rgba(255, 128, 2, 0.8)'),\n",
    "                    text = None)\n",
    "\n",
    "#trace3 is for 'Cluster 2'\n",
    "trace3 = go.Scatter(\n",
    "                    x = cluster2[\"PC1_2d\"],\n",
    "                    y = cluster2[\"PC2_2d\"],\n",
    "                    mode = \"markers\",\n",
    "                    name = \"Photography\",\n",
    "                    marker = dict(color = 'rgba(0, 135, 200, 0.8)'),\n",
    "                    text = None)\n",
    "\n",
    "#trace4 is for 'Cluster 3'\n",
    "trace4 = go.Scatter(\n",
    "                    x = cluster3[\"PC1_2d\"],\n",
    "                    y = cluster3[\"PC2_2d\"],\n",
    "                    mode = \"markers\",\n",
    "                    name = \"Food\",\n",
    "                    marker = dict(color = 'rgba(0, 105, 50, 0.8)'),\n",
    "                    text = None)\n",
    "\n",
    "#trace5 is for 'Cluster 4'\n",
    "trace5 = go.Scatter(\n",
    "                    x = cluster4[\"PC1_2d\"],\n",
    "                    y = cluster4[\"PC2_2d\"],\n",
    "                    mode = \"markers\",\n",
    "                    name = \"Cluster 4\",\n",
    "                    marker = dict(color = 'rgba(50, 25, 210, 0.8)'),\n",
    "                    text = None)\n",
    "\n",
    "#trace6 is for 'Cluster 5'\n",
    "trace6 = go.Scatter(\n",
    "                    x = cluster5[\"PC1_2d\"],\n",
    "                    y = cluster5[\"PC2_2d\"],\n",
    "                    mode = \"markers\",\n",
    "                    name = \"Fashion\",\n",
    "                    marker = dict(color = 'rgba(70, 195, 100, 0.8)'),\n",
    "                    text = None)\n",
    "\n",
    "data = [trace1, trace2, trace3, trace4, trace5, trace6]\n",
    "\n",
    "title = \"Visualizing Clusters in Two Dimensions Using PCA\"\n",
    "\n",
    "layout = dict(title = title,\n",
    "              xaxis= dict(title= 'PC1',ticklen= 5,zeroline= False),\n",
    "              yaxis= dict(title= 'PC2',ticklen= 5,zeroline= False)\n",
    "             )\n",
    "\n",
    "fig = dict(data = data, layout = layout)\n",
    "\n",
    "iplot(fig)"
   ]
  },
  {
   "cell_type": "code",
   "execution_count": 14,
   "metadata": {},
   "outputs": [
    {
     "data": {
      "application/vnd.plotly.v1+json": {
       "config": {
        "linkText": "Export to plot.ly",
        "plotlyServerURL": "https://plot.ly",
        "showLink": false
       },
       "data": [
        {
         "marker": {
          "color": "rgba(255, 128, 255, 0.8)"
         },
         "mode": "markers",
         "name": "Cluster 0",
         "type": "scatter3d",
         "x": [
          -0.9541687605767896,
          -0.8669874348379388,
          -1.1825030721831562,
          0.33018217476939155,
          -1.068963569124556,
          -1.7959882025906542,
          -1.0459620824829554,
          -0.5050012322651036
         ],
         "y": [
          -1.0162774867380917,
          -0.7204800144043166,
          -1.1644199774976391,
          -0.6364401406787101,
          -1.1512336021900857,
          -0.5586701464044846,
          -0.5677792063359597,
          -1.3757224489206796
         ],
         "z": [
          1.9117105143559945,
          1.658056709451078,
          3.8773651194023326,
          1.5237373946336883,
          2.001225386432315,
          0.9712656370476856,
          1.6562291280206543,
          1.110595017045437
         ]
        },
        {
         "marker": {
          "color": "rgba(255, 128, 2, 0.8)"
         },
         "mode": "markers",
         "name": "Cluster 1",
         "type": "scatter3d",
         "x": [
          1.228228605024297,
          -0.0900661697234878,
          -0.040034592082644704,
          3.152518180756914,
          2.287885659437627,
          1.3691634957907983,
          1.3054849833796234,
          0.8484983584279177,
          4.562604180449851
         ],
         "y": [
          0.10239097427611364,
          -2.039543755917458,
          -2.1741210332276535,
          -4.449526405379755,
          -2.0572190063619393,
          -0.5860678621098879,
          -1.4582904891212272,
          -2.4137979565680965,
          -3.1358997337275407
         ],
         "z": [
          -1.4937950210974802,
          -1.589256207323538,
          -0.7725727450560395,
          -0.1468673761415186,
          -0.5767779300117273,
          -1.5916344649666914,
          -0.18790803123125527,
          -0.4991709136065607,
          -1.4283185438572477
         ]
        },
        {
         "marker": {
          "color": "rgba(0, 135, 200, 0.8)"
         },
         "mode": "markers",
         "name": "Photography",
         "type": "scatter3d",
         "x": [
          2.051365633447847,
          2.0501345847568433,
          3.0233553790549967,
          2.3317742192759727,
          3.4719317807887538,
          1.469202974946937,
          0.43136861063741677,
          0.9211203217014604,
          1.9979233640954472,
          2.278760111697372,
          3.216283724355382,
          1.6289187682398232,
          1.7799246039925696,
          1.8273370031841767,
          1.5612701842054975,
          1.3731858511307369,
          1.2383967419238675,
          2.1654509758242484,
          1.7215929425171337,
          1.7236292878860213,
          1.8532672938222317,
          1.3293978724215259,
          0.3394362485076554,
          1.963492607024624,
          0.7100070292287772,
          1.7381839909757135,
          1.9087817805938414,
          0.7461289689352134
         ],
         "y": [
          0.4735628211592762,
          -0.7498219418979637,
          -1.7651777958017283,
          -1.7280993489321308,
          -1.3479064566416552,
          0.9633940984981669,
          0.4961659767525732,
          -0.4313044323925525,
          -1.2704051085157222,
          -1.9209576635706282,
          -2.0520254521922734,
          -0.4203128274259217,
          -1.0255739360248082,
          -0.32091135605501353,
          -0.022363180528684506,
          -0.3284722818443162,
          -0.0001244089599507883,
          -1.049944059179883,
          0.8052392144483028,
          -0.4478273532041043,
          -0.7171883098593635,
          -1.1957810412558385,
          -0.6329446437144962,
          0.22116128854701464,
          -0.710586643312545,
          -0.28822230380734215,
          -0.8596614676208171,
          -0.43030733305351027
         ],
         "z": [
          -2.2867213359691627,
          -1.1732573889534497,
          -0.11018686233986615,
          -1.0355476783857214,
          0.36183008121591936,
          0.048354133642008704,
          0.639424396661099,
          -0.05810836729571311,
          0.016456835030816526,
          -0.23691756265307168,
          0.5459267244617181,
          0.5817407521577553,
          -0.598756222494487,
          0.3139686484220334,
          -0.0015336589961981496,
          0.17482014546582286,
          -0.1018676755345195,
          -0.5548071903032166,
          -0.22478132916335267,
          0.004402163423132948,
          -0.18728612584521273,
          0.2207629260934462,
          0.49082726408305044,
          0.3485866729501304,
          0.35209961421816427,
          0.03694273210762351,
          0.27879961400992503,
          -0.35300841352990253
         ]
        },
        {
         "marker": {
          "color": "rgba(0, 105, 50, 0.8)"
         },
         "mode": "markers",
         "name": "Food",
         "type": "scatter3d",
         "x": [
          -1.49255024809524,
          -1.4591257152470394,
          -1.648917832869049,
          -1.6213731016331325,
          -1.5973178897581097,
          -2.3126389780591303,
          -1.342998851005585,
          -2.068779969189513,
          -2.5115408991161674,
          -2.8197752296669294,
          -2.8273738889014894,
          -2.933376947427379,
          -2.7859343119702764,
          -2.5406798656144134,
          -1.4669259999658983,
          -1.5896546716840438,
          -1.7609530875402453,
          -3.0575666182762995,
          -2.080191267665669,
          -2.161839168919216,
          -2.2588008000287716,
          -1.679408759515035,
          -2.3022741632494776,
          -1.6701138303795067,
          -2.7683170385822775,
          -2.1594663954180104,
          -2.867906766035307,
          -2.881194491035128
         ],
         "y": [
          -0.2658364425279835,
          0.015294270938254763,
          -0.26607512616070295,
          -0.402916639986048,
          -1.1548042743811258,
          -0.637153236645647,
          -0.7052044559042706,
          -0.3810219994735326,
          -0.5333674864883176,
          -0.5585164501346268,
          -0.8542217301566452,
          -0.8985537353519188,
          -1.0934614079230875,
          -1.0150815138011766,
          -0.10890705080461088,
          -1.8143309036869613,
          -0.869506851437807,
          -1.126373765540017,
          -0.3865232582118155,
          -0.6156750700184569,
          -0.8310857864565541,
          -0.1619614916511893,
          -0.29086767362922034,
          -0.2988056091947235,
          -0.48094492161977825,
          -0.09930943582324704,
          -1.0338616889567611,
          -0.7946594783828942
         ],
         "z": [
          -0.7664715797358587,
          -0.6203976084189248,
          -0.012729598620518374,
          -0.24037967869622895,
          -1.298131081223393,
          -1.1876090927185838,
          -0.09610185336676862,
          -0.15479625202875588,
          -0.58900493850144,
          -1.9132101659487626,
          -0.7746525840312399,
          -0.914817672976412,
          -2.173670841669497,
          -0.2164227327598454,
          -0.0029158345042947682,
          -0.42459502751234585,
          -2.400364218403751,
          -1.9617802265546076,
          -0.9529645332631308,
          -1.0834569574930402,
          -1.0034366481170072,
          -0.010885756114421333,
          -0.1235522930515513,
          -0.5843757904797056,
          -0.7939482893013923,
          -2.0165653112904427,
          -0.7449684230000752,
          -0.3259162101042161
         ]
        },
        {
         "marker": {
          "color": "rgba(50, 25, 210, 0.8)"
         },
         "mode": "markers",
         "name": "Cluster 4",
         "type": "scatter3d",
         "x": [
          2.0240379756311304,
          1.202659720695166,
          0.18594181736172213,
          0.6428200581400089,
          1.3904811878070322,
          -0.29734572576050805,
          0.8929001555412633,
          1.5670453310461137,
          0.39996948438491736,
          -0.09251662687608457,
          0.5367929673937637,
          0.20794783322481297,
          0.08117409851955219,
          0.29975959949275754,
          -0.2633479793817486,
          0.300321706848922,
          -0.1866075795064931,
          0.18512191997353833,
          0.5079070432954381,
          0.08209412819167457,
          -0.453474013013545,
          -0.09568448104548859,
          0.02196113449304669
         ],
         "y": [
          4.802760974965863,
          2.4679025076659964,
          2.6473336318083,
          2.2162428501149782,
          4.964510387320434,
          3.4056582739092467,
          1.6604746393948127,
          1.3818717302885046,
          3.7165498911647052,
          3.5868287798102365,
          0.9438323215195871,
          1.3164407440065269,
          1.2878645565888283,
          3.533416449384032,
          2.1008419241078657,
          1.2986126257065533,
          2.6204900257863053,
          3.2935060536201735,
          1.6478159453776957,
          2.2653660003275746,
          2.1416647364811823,
          3.37473205910859,
          1.586298383388075
         ],
         "z": [
          -2.0713311791191535,
          -0.9425210051035349,
          1.8220556034103499,
          -0.7278033988718441,
          -2.5859949631171384,
          0.8485756356019081,
          -0.7990649402563956,
          -0.21889411297629519,
          -1.7380528429376498,
          0.17752899768074876,
          -1.2672990997767506,
          -0.306002169115057,
          -0.2976813453624549,
          -0.3718663084119933,
          -0.17774267831357224,
          -0.13474262469430248,
          0.33368843026336154,
          -1.119508146665119,
          0.13442152138701322,
          -1.1538727952288925,
          0.4861603118162872,
          2.544244654734519,
          -0.9408604185872911
         ]
        },
        {
         "marker": {
          "color": "rgba(70, 195, 100, 0.8)"
         },
         "mode": "markers",
         "name": "Fashion",
         "type": "scatter3d",
         "x": [
          0.6345312143125275,
          -0.3380949070609553,
          -0.8305246591230361,
          0.2775301086270879,
          -0.9629327696666672,
          0.07255480055856654,
          0.22967172684391532,
          0.4073464480443296,
          -1.2985747165240886,
          1.2143710013982103,
          -1.0365168842274035,
          -0.7665373098840739,
          0.4942857987418079,
          -0.0606457238965456,
          -0.04038513765138775,
          -0.036647586211313164,
          0.41565526978490397,
          0.572692545986559,
          -0.361121291780297,
          0.9221140766874474,
          -0.924435954459483,
          -0.2441265056997146,
          -1.1616794963350334,
          -0.5173163387832302,
          -0.6228897045868657,
          -0.7998638157041573,
          0.40160081489849697,
          -0.9339868473102378,
          0.03241857172496963,
          -0.4709909872879596,
          0.08548718775236593,
          -0.049252923938835166,
          -0.3196293185226985,
          0.5504684385563567,
          -0.658789573614981,
          0.2787388162997789,
          -1.0238757737180015,
          -0.5415553481469704,
          0.7513114182200042,
          0.3799577219481717,
          0.15585415450420628,
          0.15619201703707403,
          0.5208202337112622,
          -0.5158675066126549,
          0.10938751812063244,
          0.7790568611734908,
          -0.14866131688897102,
          0.22904687243044902,
          0.20035657834973752,
          -1.126888362459341,
          0.4097872747033258,
          0.6842984442432642,
          0.3688024917151005,
          -0.40202399322901444
         ],
         "y": [
          0.26181963975297495,
          0.0064282301736281145,
          -0.058657956202857825,
          -0.8784180543475879,
          -0.6440482217931074,
          -1.263348582677857,
          -0.3692778667974693,
          0.8895677637460665,
          0.10863755405308405,
          -0.9077899097888861,
          -0.07042174727389802,
          0.10656275236823586,
          0.47986290689751815,
          -0.2284645087350639,
          0.027797025827139513,
          0.18946093716525994,
          0.28444419633384516,
          0.7289589483123577,
          -0.1278000535762299,
          0.13382225350778487,
          0.7458273195668532,
          0.6350758882588201,
          0.7216376038298542,
          -0.25236056772881776,
          -0.9309950389803634,
          -0.06929327204732151,
          -0.647408365746856,
          0.21996987792605494,
          -0.7002387937878362,
          -0.44533597543092207,
          0.2740616363677938,
          1.18193727012419,
          -0.4928438417045549,
          -0.4902933182804519,
          0.533667316471014,
          0.14828956470638655,
          0.007163989818034687,
          -0.08379917881034545,
          0.38928985945060374,
          0.18037708688586102,
          0.05989973116606418,
          0.8153887138396144,
          0.4179646465621815,
          0.0738185353690285,
          -0.09239697326351307,
          1.0807160061946477,
          0.34974758892002333,
          0.8530038535058262,
          -0.8010941098131114,
          -0.758042267094952,
          0.2818238617512671,
          -0.0783528356138111,
          0.277283685292009,
          -0.5114128453900936
         ],
         "z": [
          0.3262775532752239,
          1.5370910530590653,
          0.2556796184755566,
          1.1123599203285393,
          0.11956593450726302,
          -0.6779678273923382,
          0.6801659979870084,
          0.8966675410371858,
          2.3047513083173095,
          0.11161081996394087,
          -0.06384791454164296,
          0.9505302885344898,
          0.3751758142361295,
          0.28330000504099334,
          -0.4106492569797649,
          0.07920616514369092,
          1.4370626709967143,
          0.8708676940127126,
          0.2625670411849438,
          0.0834808879344761,
          2.8710988307106375,
          -0.26042943894717413,
          2.666678081422561,
          1.2436395963643385,
          -0.7271750985968003,
          0.47844122850590887,
          -0.6007585929926341,
          0.2660234356810539,
          0.5036165271479427,
          1.6346188041591612,
          0.8858990033759434,
          2.305255295222319,
          -0.09995001056256574,
          0.9013552321133547,
          0.8159122025600684,
          -0.1323072048696433,
          -0.2010321652788611,
          -0.2072638020033355,
          -0.17994448567439403,
          -0.8583220447957183,
          0.6215281959030061,
          -0.2956465704340632,
          0.06186026088762747,
          0.7790717310056003,
          -0.2157207084840793,
          0.23135119238831237,
          0.013451760510780432,
          2.5382444142985947,
          0.44389315928434736,
          0.05054530624925567,
          0.49399110367989096,
          0.8276563808462997,
          0.1518356481817439,
          0.4373249249726013
         ]
        }
       ],
       "layout": {
        "template": {
         "data": {
          "bar": [
           {
            "error_x": {
             "color": "#2a3f5f"
            },
            "error_y": {
             "color": "#2a3f5f"
            },
            "marker": {
             "line": {
              "color": "#E5ECF6",
              "width": 0.5
             }
            },
            "type": "bar"
           }
          ],
          "barpolar": [
           {
            "marker": {
             "line": {
              "color": "#E5ECF6",
              "width": 0.5
             }
            },
            "type": "barpolar"
           }
          ],
          "carpet": [
           {
            "aaxis": {
             "endlinecolor": "#2a3f5f",
             "gridcolor": "white",
             "linecolor": "white",
             "minorgridcolor": "white",
             "startlinecolor": "#2a3f5f"
            },
            "baxis": {
             "endlinecolor": "#2a3f5f",
             "gridcolor": "white",
             "linecolor": "white",
             "minorgridcolor": "white",
             "startlinecolor": "#2a3f5f"
            },
            "type": "carpet"
           }
          ],
          "choropleth": [
           {
            "colorbar": {
             "outlinewidth": 0,
             "ticks": ""
            },
            "type": "choropleth"
           }
          ],
          "contour": [
           {
            "colorbar": {
             "outlinewidth": 0,
             "ticks": ""
            },
            "colorscale": [
             [
              0,
              "#0d0887"
             ],
             [
              0.1111111111111111,
              "#46039f"
             ],
             [
              0.2222222222222222,
              "#7201a8"
             ],
             [
              0.3333333333333333,
              "#9c179e"
             ],
             [
              0.4444444444444444,
              "#bd3786"
             ],
             [
              0.5555555555555556,
              "#d8576b"
             ],
             [
              0.6666666666666666,
              "#ed7953"
             ],
             [
              0.7777777777777778,
              "#fb9f3a"
             ],
             [
              0.8888888888888888,
              "#fdca26"
             ],
             [
              1,
              "#f0f921"
             ]
            ],
            "type": "contour"
           }
          ],
          "contourcarpet": [
           {
            "colorbar": {
             "outlinewidth": 0,
             "ticks": ""
            },
            "type": "contourcarpet"
           }
          ],
          "heatmap": [
           {
            "colorbar": {
             "outlinewidth": 0,
             "ticks": ""
            },
            "colorscale": [
             [
              0,
              "#0d0887"
             ],
             [
              0.1111111111111111,
              "#46039f"
             ],
             [
              0.2222222222222222,
              "#7201a8"
             ],
             [
              0.3333333333333333,
              "#9c179e"
             ],
             [
              0.4444444444444444,
              "#bd3786"
             ],
             [
              0.5555555555555556,
              "#d8576b"
             ],
             [
              0.6666666666666666,
              "#ed7953"
             ],
             [
              0.7777777777777778,
              "#fb9f3a"
             ],
             [
              0.8888888888888888,
              "#fdca26"
             ],
             [
              1,
              "#f0f921"
             ]
            ],
            "type": "heatmap"
           }
          ],
          "heatmapgl": [
           {
            "colorbar": {
             "outlinewidth": 0,
             "ticks": ""
            },
            "colorscale": [
             [
              0,
              "#0d0887"
             ],
             [
              0.1111111111111111,
              "#46039f"
             ],
             [
              0.2222222222222222,
              "#7201a8"
             ],
             [
              0.3333333333333333,
              "#9c179e"
             ],
             [
              0.4444444444444444,
              "#bd3786"
             ],
             [
              0.5555555555555556,
              "#d8576b"
             ],
             [
              0.6666666666666666,
              "#ed7953"
             ],
             [
              0.7777777777777778,
              "#fb9f3a"
             ],
             [
              0.8888888888888888,
              "#fdca26"
             ],
             [
              1,
              "#f0f921"
             ]
            ],
            "type": "heatmapgl"
           }
          ],
          "histogram": [
           {
            "marker": {
             "colorbar": {
              "outlinewidth": 0,
              "ticks": ""
             }
            },
            "type": "histogram"
           }
          ],
          "histogram2d": [
           {
            "colorbar": {
             "outlinewidth": 0,
             "ticks": ""
            },
            "colorscale": [
             [
              0,
              "#0d0887"
             ],
             [
              0.1111111111111111,
              "#46039f"
             ],
             [
              0.2222222222222222,
              "#7201a8"
             ],
             [
              0.3333333333333333,
              "#9c179e"
             ],
             [
              0.4444444444444444,
              "#bd3786"
             ],
             [
              0.5555555555555556,
              "#d8576b"
             ],
             [
              0.6666666666666666,
              "#ed7953"
             ],
             [
              0.7777777777777778,
              "#fb9f3a"
             ],
             [
              0.8888888888888888,
              "#fdca26"
             ],
             [
              1,
              "#f0f921"
             ]
            ],
            "type": "histogram2d"
           }
          ],
          "histogram2dcontour": [
           {
            "colorbar": {
             "outlinewidth": 0,
             "ticks": ""
            },
            "colorscale": [
             [
              0,
              "#0d0887"
             ],
             [
              0.1111111111111111,
              "#46039f"
             ],
             [
              0.2222222222222222,
              "#7201a8"
             ],
             [
              0.3333333333333333,
              "#9c179e"
             ],
             [
              0.4444444444444444,
              "#bd3786"
             ],
             [
              0.5555555555555556,
              "#d8576b"
             ],
             [
              0.6666666666666666,
              "#ed7953"
             ],
             [
              0.7777777777777778,
              "#fb9f3a"
             ],
             [
              0.8888888888888888,
              "#fdca26"
             ],
             [
              1,
              "#f0f921"
             ]
            ],
            "type": "histogram2dcontour"
           }
          ],
          "mesh3d": [
           {
            "colorbar": {
             "outlinewidth": 0,
             "ticks": ""
            },
            "type": "mesh3d"
           }
          ],
          "parcoords": [
           {
            "line": {
             "colorbar": {
              "outlinewidth": 0,
              "ticks": ""
             }
            },
            "type": "parcoords"
           }
          ],
          "pie": [
           {
            "automargin": true,
            "type": "pie"
           }
          ],
          "scatter": [
           {
            "marker": {
             "colorbar": {
              "outlinewidth": 0,
              "ticks": ""
             }
            },
            "type": "scatter"
           }
          ],
          "scatter3d": [
           {
            "line": {
             "colorbar": {
              "outlinewidth": 0,
              "ticks": ""
             }
            },
            "marker": {
             "colorbar": {
              "outlinewidth": 0,
              "ticks": ""
             }
            },
            "type": "scatter3d"
           }
          ],
          "scattercarpet": [
           {
            "marker": {
             "colorbar": {
              "outlinewidth": 0,
              "ticks": ""
             }
            },
            "type": "scattercarpet"
           }
          ],
          "scattergeo": [
           {
            "marker": {
             "colorbar": {
              "outlinewidth": 0,
              "ticks": ""
             }
            },
            "type": "scattergeo"
           }
          ],
          "scattergl": [
           {
            "marker": {
             "colorbar": {
              "outlinewidth": 0,
              "ticks": ""
             }
            },
            "type": "scattergl"
           }
          ],
          "scattermapbox": [
           {
            "marker": {
             "colorbar": {
              "outlinewidth": 0,
              "ticks": ""
             }
            },
            "type": "scattermapbox"
           }
          ],
          "scatterpolar": [
           {
            "marker": {
             "colorbar": {
              "outlinewidth": 0,
              "ticks": ""
             }
            },
            "type": "scatterpolar"
           }
          ],
          "scatterpolargl": [
           {
            "marker": {
             "colorbar": {
              "outlinewidth": 0,
              "ticks": ""
             }
            },
            "type": "scatterpolargl"
           }
          ],
          "scatterternary": [
           {
            "marker": {
             "colorbar": {
              "outlinewidth": 0,
              "ticks": ""
             }
            },
            "type": "scatterternary"
           }
          ],
          "surface": [
           {
            "colorbar": {
             "outlinewidth": 0,
             "ticks": ""
            },
            "colorscale": [
             [
              0,
              "#0d0887"
             ],
             [
              0.1111111111111111,
              "#46039f"
             ],
             [
              0.2222222222222222,
              "#7201a8"
             ],
             [
              0.3333333333333333,
              "#9c179e"
             ],
             [
              0.4444444444444444,
              "#bd3786"
             ],
             [
              0.5555555555555556,
              "#d8576b"
             ],
             [
              0.6666666666666666,
              "#ed7953"
             ],
             [
              0.7777777777777778,
              "#fb9f3a"
             ],
             [
              0.8888888888888888,
              "#fdca26"
             ],
             [
              1,
              "#f0f921"
             ]
            ],
            "type": "surface"
           }
          ],
          "table": [
           {
            "cells": {
             "fill": {
              "color": "#EBF0F8"
             },
             "line": {
              "color": "white"
             }
            },
            "header": {
             "fill": {
              "color": "#C8D4E3"
             },
             "line": {
              "color": "white"
             }
            },
            "type": "table"
           }
          ]
         },
         "layout": {
          "annotationdefaults": {
           "arrowcolor": "#2a3f5f",
           "arrowhead": 0,
           "arrowwidth": 1
          },
          "autotypenumbers": "strict",
          "coloraxis": {
           "colorbar": {
            "outlinewidth": 0,
            "ticks": ""
           }
          },
          "colorscale": {
           "diverging": [
            [
             0,
             "#8e0152"
            ],
            [
             0.1,
             "#c51b7d"
            ],
            [
             0.2,
             "#de77ae"
            ],
            [
             0.3,
             "#f1b6da"
            ],
            [
             0.4,
             "#fde0ef"
            ],
            [
             0.5,
             "#f7f7f7"
            ],
            [
             0.6,
             "#e6f5d0"
            ],
            [
             0.7,
             "#b8e186"
            ],
            [
             0.8,
             "#7fbc41"
            ],
            [
             0.9,
             "#4d9221"
            ],
            [
             1,
             "#276419"
            ]
           ],
           "sequential": [
            [
             0,
             "#0d0887"
            ],
            [
             0.1111111111111111,
             "#46039f"
            ],
            [
             0.2222222222222222,
             "#7201a8"
            ],
            [
             0.3333333333333333,
             "#9c179e"
            ],
            [
             0.4444444444444444,
             "#bd3786"
            ],
            [
             0.5555555555555556,
             "#d8576b"
            ],
            [
             0.6666666666666666,
             "#ed7953"
            ],
            [
             0.7777777777777778,
             "#fb9f3a"
            ],
            [
             0.8888888888888888,
             "#fdca26"
            ],
            [
             1,
             "#f0f921"
            ]
           ],
           "sequentialminus": [
            [
             0,
             "#0d0887"
            ],
            [
             0.1111111111111111,
             "#46039f"
            ],
            [
             0.2222222222222222,
             "#7201a8"
            ],
            [
             0.3333333333333333,
             "#9c179e"
            ],
            [
             0.4444444444444444,
             "#bd3786"
            ],
            [
             0.5555555555555556,
             "#d8576b"
            ],
            [
             0.6666666666666666,
             "#ed7953"
            ],
            [
             0.7777777777777778,
             "#fb9f3a"
            ],
            [
             0.8888888888888888,
             "#fdca26"
            ],
            [
             1,
             "#f0f921"
            ]
           ]
          },
          "colorway": [
           "#636efa",
           "#EF553B",
           "#00cc96",
           "#ab63fa",
           "#FFA15A",
           "#19d3f3",
           "#FF6692",
           "#B6E880",
           "#FF97FF",
           "#FECB52"
          ],
          "font": {
           "color": "#2a3f5f"
          },
          "geo": {
           "bgcolor": "white",
           "lakecolor": "white",
           "landcolor": "#E5ECF6",
           "showlakes": true,
           "showland": true,
           "subunitcolor": "white"
          },
          "hoverlabel": {
           "align": "left"
          },
          "hovermode": "closest",
          "mapbox": {
           "style": "light"
          },
          "paper_bgcolor": "white",
          "plot_bgcolor": "#E5ECF6",
          "polar": {
           "angularaxis": {
            "gridcolor": "white",
            "linecolor": "white",
            "ticks": ""
           },
           "bgcolor": "#E5ECF6",
           "radialaxis": {
            "gridcolor": "white",
            "linecolor": "white",
            "ticks": ""
           }
          },
          "scene": {
           "xaxis": {
            "backgroundcolor": "#E5ECF6",
            "gridcolor": "white",
            "gridwidth": 2,
            "linecolor": "white",
            "showbackground": true,
            "ticks": "",
            "zerolinecolor": "white"
           },
           "yaxis": {
            "backgroundcolor": "#E5ECF6",
            "gridcolor": "white",
            "gridwidth": 2,
            "linecolor": "white",
            "showbackground": true,
            "ticks": "",
            "zerolinecolor": "white"
           },
           "zaxis": {
            "backgroundcolor": "#E5ECF6",
            "gridcolor": "white",
            "gridwidth": 2,
            "linecolor": "white",
            "showbackground": true,
            "ticks": "",
            "zerolinecolor": "white"
           }
          },
          "shapedefaults": {
           "line": {
            "color": "#2a3f5f"
           }
          },
          "ternary": {
           "aaxis": {
            "gridcolor": "white",
            "linecolor": "white",
            "ticks": ""
           },
           "baxis": {
            "gridcolor": "white",
            "linecolor": "white",
            "ticks": ""
           },
           "bgcolor": "#E5ECF6",
           "caxis": {
            "gridcolor": "white",
            "linecolor": "white",
            "ticks": ""
           }
          },
          "title": {
           "x": 0.05
          },
          "xaxis": {
           "automargin": true,
           "gridcolor": "white",
           "linecolor": "white",
           "ticks": "",
           "title": {
            "standoff": 15
           },
           "zerolinecolor": "white",
           "zerolinewidth": 2
          },
          "yaxis": {
           "automargin": true,
           "gridcolor": "white",
           "linecolor": "white",
           "ticks": "",
           "title": {
            "standoff": 15
           },
           "zerolinecolor": "white",
           "zerolinewidth": 2
          }
         }
        },
        "title": {
         "text": "Visualizing Clusters in Three Dimensions Using PCA"
        },
        "xaxis": {
         "ticklen": 5,
         "title": {
          "text": "PC1"
         },
         "zeroline": false
        },
        "yaxis": {
         "ticklen": 5,
         "title": {
          "text": "PC2"
         },
         "zeroline": false
        }
       }
      },
      "text/html": [
       "<div>                            <div id=\"c1292e11-cfd3-4001-96ca-be1573aca88f\" class=\"plotly-graph-div\" style=\"height:525px; width:100%;\"></div>            <script type=\"text/javascript\">                require([\"plotly\"], function(Plotly) {                    window.PLOTLYENV=window.PLOTLYENV || {};                                    if (document.getElementById(\"c1292e11-cfd3-4001-96ca-be1573aca88f\")) {                    Plotly.newPlot(                        \"c1292e11-cfd3-4001-96ca-be1573aca88f\",                        [{\"marker\": {\"color\": \"rgba(255, 128, 255, 0.8)\"}, \"mode\": \"markers\", \"name\": \"Cluster 0\", \"type\": \"scatter3d\", \"x\": [-0.9541687605767896, -0.8669874348379388, -1.1825030721831562, 0.33018217476939155, -1.068963569124556, -1.7959882025906542, -1.0459620824829554, -0.5050012322651036], \"y\": [-1.0162774867380917, -0.7204800144043166, -1.1644199774976391, -0.6364401406787101, -1.1512336021900857, -0.5586701464044846, -0.5677792063359597, -1.3757224489206796], \"z\": [1.9117105143559945, 1.658056709451078, 3.8773651194023326, 1.5237373946336883, 2.001225386432315, 0.9712656370476856, 1.6562291280206543, 1.110595017045437]}, {\"marker\": {\"color\": \"rgba(255, 128, 2, 0.8)\"}, \"mode\": \"markers\", \"name\": \"Cluster 1\", \"type\": \"scatter3d\", \"x\": [1.228228605024297, -0.0900661697234878, -0.040034592082644704, 3.152518180756914, 2.287885659437627, 1.3691634957907983, 1.3054849833796234, 0.8484983584279177, 4.562604180449851], \"y\": [0.10239097427611364, -2.039543755917458, -2.1741210332276535, -4.449526405379755, -2.0572190063619393, -0.5860678621098879, -1.4582904891212272, -2.4137979565680965, -3.1358997337275407], \"z\": [-1.4937950210974802, -1.589256207323538, -0.7725727450560395, -0.1468673761415186, -0.5767779300117273, -1.5916344649666914, -0.18790803123125527, -0.4991709136065607, -1.4283185438572477]}, {\"marker\": {\"color\": \"rgba(0, 135, 200, 0.8)\"}, \"mode\": \"markers\", \"name\": \"Photography\", \"type\": \"scatter3d\", \"x\": [2.051365633447847, 2.0501345847568433, 3.0233553790549967, 2.3317742192759727, 3.4719317807887538, 1.469202974946937, 0.43136861063741677, 0.9211203217014604, 1.9979233640954472, 2.278760111697372, 3.216283724355382, 1.6289187682398232, 1.7799246039925696, 1.8273370031841767, 1.5612701842054975, 1.3731858511307369, 1.2383967419238675, 2.1654509758242484, 1.7215929425171337, 1.7236292878860213, 1.8532672938222317, 1.3293978724215259, 0.3394362485076554, 1.963492607024624, 0.7100070292287772, 1.7381839909757135, 1.9087817805938414, 0.7461289689352134], \"y\": [0.4735628211592762, -0.7498219418979637, -1.7651777958017283, -1.7280993489321308, -1.3479064566416552, 0.9633940984981669, 0.4961659767525732, -0.4313044323925525, -1.2704051085157222, -1.9209576635706282, -2.0520254521922734, -0.4203128274259217, -1.0255739360248082, -0.32091135605501353, -0.022363180528684506, -0.3284722818443162, -0.0001244089599507883, -1.049944059179883, 0.8052392144483028, -0.4478273532041043, -0.7171883098593635, -1.1957810412558385, -0.6329446437144962, 0.22116128854701464, -0.710586643312545, -0.28822230380734215, -0.8596614676208171, -0.43030733305351027], \"z\": [-2.2867213359691627, -1.1732573889534497, -0.11018686233986615, -1.0355476783857214, 0.36183008121591936, 0.048354133642008704, 0.639424396661099, -0.05810836729571311, 0.016456835030816526, -0.23691756265307168, 0.5459267244617181, 0.5817407521577553, -0.598756222494487, 0.3139686484220334, -0.0015336589961981496, 0.17482014546582286, -0.1018676755345195, -0.5548071903032166, -0.22478132916335267, 0.004402163423132948, -0.18728612584521273, 0.2207629260934462, 0.49082726408305044, 0.3485866729501304, 0.35209961421816427, 0.03694273210762351, 0.27879961400992503, -0.35300841352990253]}, {\"marker\": {\"color\": \"rgba(0, 105, 50, 0.8)\"}, \"mode\": \"markers\", \"name\": \"Food\", \"type\": \"scatter3d\", \"x\": [-1.49255024809524, -1.4591257152470394, -1.648917832869049, -1.6213731016331325, -1.5973178897581097, -2.3126389780591303, -1.342998851005585, -2.068779969189513, -2.5115408991161674, -2.8197752296669294, -2.8273738889014894, -2.933376947427379, -2.7859343119702764, -2.5406798656144134, -1.4669259999658983, -1.5896546716840438, -1.7609530875402453, -3.0575666182762995, -2.080191267665669, -2.161839168919216, -2.2588008000287716, -1.679408759515035, -2.3022741632494776, -1.6701138303795067, -2.7683170385822775, -2.1594663954180104, -2.867906766035307, -2.881194491035128], \"y\": [-0.2658364425279835, 0.015294270938254763, -0.26607512616070295, -0.402916639986048, -1.1548042743811258, -0.637153236645647, -0.7052044559042706, -0.3810219994735326, -0.5333674864883176, -0.5585164501346268, -0.8542217301566452, -0.8985537353519188, -1.0934614079230875, -1.0150815138011766, -0.10890705080461088, -1.8143309036869613, -0.869506851437807, -1.126373765540017, -0.3865232582118155, -0.6156750700184569, -0.8310857864565541, -0.1619614916511893, -0.29086767362922034, -0.2988056091947235, -0.48094492161977825, -0.09930943582324704, -1.0338616889567611, -0.7946594783828942], \"z\": [-0.7664715797358587, -0.6203976084189248, -0.012729598620518374, -0.24037967869622895, -1.298131081223393, -1.1876090927185838, -0.09610185336676862, -0.15479625202875588, -0.58900493850144, -1.9132101659487626, -0.7746525840312399, -0.914817672976412, -2.173670841669497, -0.2164227327598454, -0.0029158345042947682, -0.42459502751234585, -2.400364218403751, -1.9617802265546076, -0.9529645332631308, -1.0834569574930402, -1.0034366481170072, -0.010885756114421333, -0.1235522930515513, -0.5843757904797056, -0.7939482893013923, -2.0165653112904427, -0.7449684230000752, -0.3259162101042161]}, {\"marker\": {\"color\": \"rgba(50, 25, 210, 0.8)\"}, \"mode\": \"markers\", \"name\": \"Cluster 4\", \"type\": \"scatter3d\", \"x\": [2.0240379756311304, 1.202659720695166, 0.18594181736172213, 0.6428200581400089, 1.3904811878070322, -0.29734572576050805, 0.8929001555412633, 1.5670453310461137, 0.39996948438491736, -0.09251662687608457, 0.5367929673937637, 0.20794783322481297, 0.08117409851955219, 0.29975959949275754, -0.2633479793817486, 0.300321706848922, -0.1866075795064931, 0.18512191997353833, 0.5079070432954381, 0.08209412819167457, -0.453474013013545, -0.09568448104548859, 0.02196113449304669], \"y\": [4.802760974965863, 2.4679025076659964, 2.6473336318083, 2.2162428501149782, 4.964510387320434, 3.4056582739092467, 1.6604746393948127, 1.3818717302885046, 3.7165498911647052, 3.5868287798102365, 0.9438323215195871, 1.3164407440065269, 1.2878645565888283, 3.533416449384032, 2.1008419241078657, 1.2986126257065533, 2.6204900257863053, 3.2935060536201735, 1.6478159453776957, 2.2653660003275746, 2.1416647364811823, 3.37473205910859, 1.586298383388075], \"z\": [-2.0713311791191535, -0.9425210051035349, 1.8220556034103499, -0.7278033988718441, -2.5859949631171384, 0.8485756356019081, -0.7990649402563956, -0.21889411297629519, -1.7380528429376498, 0.17752899768074876, -1.2672990997767506, -0.306002169115057, -0.2976813453624549, -0.3718663084119933, -0.17774267831357224, -0.13474262469430248, 0.33368843026336154, -1.119508146665119, 0.13442152138701322, -1.1538727952288925, 0.4861603118162872, 2.544244654734519, -0.9408604185872911]}, {\"marker\": {\"color\": \"rgba(70, 195, 100, 0.8)\"}, \"mode\": \"markers\", \"name\": \"Fashion\", \"type\": \"scatter3d\", \"x\": [0.6345312143125275, -0.3380949070609553, -0.8305246591230361, 0.2775301086270879, -0.9629327696666672, 0.07255480055856654, 0.22967172684391532, 0.4073464480443296, -1.2985747165240886, 1.2143710013982103, -1.0365168842274035, -0.7665373098840739, 0.4942857987418079, -0.0606457238965456, -0.04038513765138775, -0.036647586211313164, 0.41565526978490397, 0.572692545986559, -0.361121291780297, 0.9221140766874474, -0.924435954459483, -0.2441265056997146, -1.1616794963350334, -0.5173163387832302, -0.6228897045868657, -0.7998638157041573, 0.40160081489849697, -0.9339868473102378, 0.03241857172496963, -0.4709909872879596, 0.08548718775236593, -0.049252923938835166, -0.3196293185226985, 0.5504684385563567, -0.658789573614981, 0.2787388162997789, -1.0238757737180015, -0.5415553481469704, 0.7513114182200042, 0.3799577219481717, 0.15585415450420628, 0.15619201703707403, 0.5208202337112622, -0.5158675066126549, 0.10938751812063244, 0.7790568611734908, -0.14866131688897102, 0.22904687243044902, 0.20035657834973752, -1.126888362459341, 0.4097872747033258, 0.6842984442432642, 0.3688024917151005, -0.40202399322901444], \"y\": [0.26181963975297495, 0.0064282301736281145, -0.058657956202857825, -0.8784180543475879, -0.6440482217931074, -1.263348582677857, -0.3692778667974693, 0.8895677637460665, 0.10863755405308405, -0.9077899097888861, -0.07042174727389802, 0.10656275236823586, 0.47986290689751815, -0.2284645087350639, 0.027797025827139513, 0.18946093716525994, 0.28444419633384516, 0.7289589483123577, -0.1278000535762299, 0.13382225350778487, 0.7458273195668532, 0.6350758882588201, 0.7216376038298542, -0.25236056772881776, -0.9309950389803634, -0.06929327204732151, -0.647408365746856, 0.21996987792605494, -0.7002387937878362, -0.44533597543092207, 0.2740616363677938, 1.18193727012419, -0.4928438417045549, -0.4902933182804519, 0.533667316471014, 0.14828956470638655, 0.007163989818034687, -0.08379917881034545, 0.38928985945060374, 0.18037708688586102, 0.05989973116606418, 0.8153887138396144, 0.4179646465621815, 0.0738185353690285, -0.09239697326351307, 1.0807160061946477, 0.34974758892002333, 0.8530038535058262, -0.8010941098131114, -0.758042267094952, 0.2818238617512671, -0.0783528356138111, 0.277283685292009, -0.5114128453900936], \"z\": [0.3262775532752239, 1.5370910530590653, 0.2556796184755566, 1.1123599203285393, 0.11956593450726302, -0.6779678273923382, 0.6801659979870084, 0.8966675410371858, 2.3047513083173095, 0.11161081996394087, -0.06384791454164296, 0.9505302885344898, 0.3751758142361295, 0.28330000504099334, -0.4106492569797649, 0.07920616514369092, 1.4370626709967143, 0.8708676940127126, 0.2625670411849438, 0.0834808879344761, 2.8710988307106375, -0.26042943894717413, 2.666678081422561, 1.2436395963643385, -0.7271750985968003, 0.47844122850590887, -0.6007585929926341, 0.2660234356810539, 0.5036165271479427, 1.6346188041591612, 0.8858990033759434, 2.305255295222319, -0.09995001056256574, 0.9013552321133547, 0.8159122025600684, -0.1323072048696433, -0.2010321652788611, -0.2072638020033355, -0.17994448567439403, -0.8583220447957183, 0.6215281959030061, -0.2956465704340632, 0.06186026088762747, 0.7790717310056003, -0.2157207084840793, 0.23135119238831237, 0.013451760510780432, 2.5382444142985947, 0.44389315928434736, 0.05054530624925567, 0.49399110367989096, 0.8276563808462997, 0.1518356481817439, 0.4373249249726013]}],                        {\"template\": {\"data\": {\"bar\": [{\"error_x\": {\"color\": \"#2a3f5f\"}, \"error_y\": {\"color\": \"#2a3f5f\"}, \"marker\": {\"line\": {\"color\": \"#E5ECF6\", \"width\": 0.5}}, \"type\": \"bar\"}], \"barpolar\": [{\"marker\": {\"line\": {\"color\": \"#E5ECF6\", \"width\": 0.5}}, \"type\": \"barpolar\"}], \"carpet\": [{\"aaxis\": {\"endlinecolor\": \"#2a3f5f\", \"gridcolor\": \"white\", \"linecolor\": \"white\", \"minorgridcolor\": \"white\", \"startlinecolor\": \"#2a3f5f\"}, \"baxis\": {\"endlinecolor\": \"#2a3f5f\", \"gridcolor\": \"white\", \"linecolor\": \"white\", \"minorgridcolor\": \"white\", \"startlinecolor\": \"#2a3f5f\"}, \"type\": \"carpet\"}], \"choropleth\": [{\"colorbar\": {\"outlinewidth\": 0, \"ticks\": \"\"}, \"type\": \"choropleth\"}], \"contour\": [{\"colorbar\": {\"outlinewidth\": 0, \"ticks\": \"\"}, \"colorscale\": [[0.0, \"#0d0887\"], [0.1111111111111111, \"#46039f\"], [0.2222222222222222, \"#7201a8\"], [0.3333333333333333, \"#9c179e\"], [0.4444444444444444, \"#bd3786\"], [0.5555555555555556, \"#d8576b\"], [0.6666666666666666, \"#ed7953\"], [0.7777777777777778, \"#fb9f3a\"], [0.8888888888888888, \"#fdca26\"], [1.0, \"#f0f921\"]], \"type\": \"contour\"}], \"contourcarpet\": [{\"colorbar\": {\"outlinewidth\": 0, \"ticks\": \"\"}, \"type\": \"contourcarpet\"}], \"heatmap\": [{\"colorbar\": {\"outlinewidth\": 0, \"ticks\": \"\"}, \"colorscale\": [[0.0, \"#0d0887\"], [0.1111111111111111, \"#46039f\"], [0.2222222222222222, \"#7201a8\"], [0.3333333333333333, \"#9c179e\"], [0.4444444444444444, \"#bd3786\"], [0.5555555555555556, \"#d8576b\"], [0.6666666666666666, \"#ed7953\"], [0.7777777777777778, \"#fb9f3a\"], [0.8888888888888888, \"#fdca26\"], [1.0, \"#f0f921\"]], \"type\": \"heatmap\"}], \"heatmapgl\": [{\"colorbar\": {\"outlinewidth\": 0, \"ticks\": \"\"}, \"colorscale\": [[0.0, \"#0d0887\"], [0.1111111111111111, \"#46039f\"], [0.2222222222222222, \"#7201a8\"], [0.3333333333333333, \"#9c179e\"], [0.4444444444444444, \"#bd3786\"], [0.5555555555555556, \"#d8576b\"], [0.6666666666666666, \"#ed7953\"], [0.7777777777777778, \"#fb9f3a\"], [0.8888888888888888, \"#fdca26\"], [1.0, \"#f0f921\"]], \"type\": \"heatmapgl\"}], \"histogram\": [{\"marker\": {\"colorbar\": {\"outlinewidth\": 0, \"ticks\": \"\"}}, \"type\": \"histogram\"}], \"histogram2d\": [{\"colorbar\": {\"outlinewidth\": 0, \"ticks\": \"\"}, \"colorscale\": [[0.0, \"#0d0887\"], [0.1111111111111111, \"#46039f\"], [0.2222222222222222, \"#7201a8\"], [0.3333333333333333, \"#9c179e\"], [0.4444444444444444, \"#bd3786\"], [0.5555555555555556, \"#d8576b\"], [0.6666666666666666, \"#ed7953\"], [0.7777777777777778, \"#fb9f3a\"], [0.8888888888888888, \"#fdca26\"], [1.0, \"#f0f921\"]], \"type\": \"histogram2d\"}], \"histogram2dcontour\": [{\"colorbar\": {\"outlinewidth\": 0, \"ticks\": \"\"}, \"colorscale\": [[0.0, \"#0d0887\"], [0.1111111111111111, \"#46039f\"], [0.2222222222222222, \"#7201a8\"], [0.3333333333333333, \"#9c179e\"], [0.4444444444444444, \"#bd3786\"], [0.5555555555555556, \"#d8576b\"], [0.6666666666666666, \"#ed7953\"], [0.7777777777777778, \"#fb9f3a\"], [0.8888888888888888, \"#fdca26\"], [1.0, \"#f0f921\"]], \"type\": \"histogram2dcontour\"}], \"mesh3d\": [{\"colorbar\": {\"outlinewidth\": 0, \"ticks\": \"\"}, \"type\": \"mesh3d\"}], \"parcoords\": [{\"line\": {\"colorbar\": {\"outlinewidth\": 0, \"ticks\": \"\"}}, \"type\": \"parcoords\"}], \"pie\": [{\"automargin\": true, \"type\": \"pie\"}], \"scatter\": [{\"marker\": {\"colorbar\": {\"outlinewidth\": 0, \"ticks\": \"\"}}, \"type\": \"scatter\"}], \"scatter3d\": [{\"line\": {\"colorbar\": {\"outlinewidth\": 0, \"ticks\": \"\"}}, \"marker\": {\"colorbar\": {\"outlinewidth\": 0, \"ticks\": \"\"}}, \"type\": \"scatter3d\"}], \"scattercarpet\": [{\"marker\": {\"colorbar\": {\"outlinewidth\": 0, \"ticks\": \"\"}}, \"type\": \"scattercarpet\"}], \"scattergeo\": [{\"marker\": {\"colorbar\": {\"outlinewidth\": 0, \"ticks\": \"\"}}, \"type\": \"scattergeo\"}], \"scattergl\": [{\"marker\": {\"colorbar\": {\"outlinewidth\": 0, \"ticks\": \"\"}}, \"type\": \"scattergl\"}], \"scattermapbox\": [{\"marker\": {\"colorbar\": {\"outlinewidth\": 0, \"ticks\": \"\"}}, \"type\": \"scattermapbox\"}], \"scatterpolar\": [{\"marker\": {\"colorbar\": {\"outlinewidth\": 0, \"ticks\": \"\"}}, \"type\": \"scatterpolar\"}], \"scatterpolargl\": [{\"marker\": {\"colorbar\": {\"outlinewidth\": 0, \"ticks\": \"\"}}, \"type\": \"scatterpolargl\"}], \"scatterternary\": [{\"marker\": {\"colorbar\": {\"outlinewidth\": 0, \"ticks\": \"\"}}, \"type\": \"scatterternary\"}], \"surface\": [{\"colorbar\": {\"outlinewidth\": 0, \"ticks\": \"\"}, \"colorscale\": [[0.0, \"#0d0887\"], [0.1111111111111111, \"#46039f\"], [0.2222222222222222, \"#7201a8\"], [0.3333333333333333, \"#9c179e\"], [0.4444444444444444, \"#bd3786\"], [0.5555555555555556, \"#d8576b\"], [0.6666666666666666, \"#ed7953\"], [0.7777777777777778, \"#fb9f3a\"], [0.8888888888888888, \"#fdca26\"], [1.0, \"#f0f921\"]], \"type\": \"surface\"}], \"table\": [{\"cells\": {\"fill\": {\"color\": \"#EBF0F8\"}, \"line\": {\"color\": \"white\"}}, \"header\": {\"fill\": {\"color\": \"#C8D4E3\"}, \"line\": {\"color\": \"white\"}}, \"type\": \"table\"}]}, \"layout\": {\"annotationdefaults\": {\"arrowcolor\": \"#2a3f5f\", \"arrowhead\": 0, \"arrowwidth\": 1}, \"autotypenumbers\": \"strict\", \"coloraxis\": {\"colorbar\": {\"outlinewidth\": 0, \"ticks\": \"\"}}, \"colorscale\": {\"diverging\": [[0, \"#8e0152\"], [0.1, \"#c51b7d\"], [0.2, \"#de77ae\"], [0.3, \"#f1b6da\"], [0.4, \"#fde0ef\"], [0.5, \"#f7f7f7\"], [0.6, \"#e6f5d0\"], [0.7, \"#b8e186\"], [0.8, \"#7fbc41\"], [0.9, \"#4d9221\"], [1, \"#276419\"]], \"sequential\": [[0.0, \"#0d0887\"], [0.1111111111111111, \"#46039f\"], [0.2222222222222222, \"#7201a8\"], [0.3333333333333333, \"#9c179e\"], [0.4444444444444444, \"#bd3786\"], [0.5555555555555556, \"#d8576b\"], [0.6666666666666666, \"#ed7953\"], [0.7777777777777778, \"#fb9f3a\"], [0.8888888888888888, \"#fdca26\"], [1.0, \"#f0f921\"]], \"sequentialminus\": [[0.0, \"#0d0887\"], [0.1111111111111111, \"#46039f\"], [0.2222222222222222, \"#7201a8\"], [0.3333333333333333, \"#9c179e\"], [0.4444444444444444, \"#bd3786\"], [0.5555555555555556, \"#d8576b\"], [0.6666666666666666, \"#ed7953\"], [0.7777777777777778, \"#fb9f3a\"], [0.8888888888888888, \"#fdca26\"], [1.0, \"#f0f921\"]]}, \"colorway\": [\"#636efa\", \"#EF553B\", \"#00cc96\", \"#ab63fa\", \"#FFA15A\", \"#19d3f3\", \"#FF6692\", \"#B6E880\", \"#FF97FF\", \"#FECB52\"], \"font\": {\"color\": \"#2a3f5f\"}, \"geo\": {\"bgcolor\": \"white\", \"lakecolor\": \"white\", \"landcolor\": \"#E5ECF6\", \"showlakes\": true, \"showland\": true, \"subunitcolor\": \"white\"}, \"hoverlabel\": {\"align\": \"left\"}, \"hovermode\": \"closest\", \"mapbox\": {\"style\": \"light\"}, \"paper_bgcolor\": \"white\", \"plot_bgcolor\": \"#E5ECF6\", \"polar\": {\"angularaxis\": {\"gridcolor\": \"white\", \"linecolor\": \"white\", \"ticks\": \"\"}, \"bgcolor\": \"#E5ECF6\", \"radialaxis\": {\"gridcolor\": \"white\", \"linecolor\": \"white\", \"ticks\": \"\"}}, \"scene\": {\"xaxis\": {\"backgroundcolor\": \"#E5ECF6\", \"gridcolor\": \"white\", \"gridwidth\": 2, \"linecolor\": \"white\", \"showbackground\": true, \"ticks\": \"\", \"zerolinecolor\": \"white\"}, \"yaxis\": {\"backgroundcolor\": \"#E5ECF6\", \"gridcolor\": \"white\", \"gridwidth\": 2, \"linecolor\": \"white\", \"showbackground\": true, \"ticks\": \"\", \"zerolinecolor\": \"white\"}, \"zaxis\": {\"backgroundcolor\": \"#E5ECF6\", \"gridcolor\": \"white\", \"gridwidth\": 2, \"linecolor\": \"white\", \"showbackground\": true, \"ticks\": \"\", \"zerolinecolor\": \"white\"}}, \"shapedefaults\": {\"line\": {\"color\": \"#2a3f5f\"}}, \"ternary\": {\"aaxis\": {\"gridcolor\": \"white\", \"linecolor\": \"white\", \"ticks\": \"\"}, \"baxis\": {\"gridcolor\": \"white\", \"linecolor\": \"white\", \"ticks\": \"\"}, \"bgcolor\": \"#E5ECF6\", \"caxis\": {\"gridcolor\": \"white\", \"linecolor\": \"white\", \"ticks\": \"\"}}, \"title\": {\"x\": 0.05}, \"xaxis\": {\"automargin\": true, \"gridcolor\": \"white\", \"linecolor\": \"white\", \"ticks\": \"\", \"title\": {\"standoff\": 15}, \"zerolinecolor\": \"white\", \"zerolinewidth\": 2}, \"yaxis\": {\"automargin\": true, \"gridcolor\": \"white\", \"linecolor\": \"white\", \"ticks\": \"\", \"title\": {\"standoff\": 15}, \"zerolinecolor\": \"white\", \"zerolinewidth\": 2}}}, \"title\": {\"text\": \"Visualizing Clusters in Three Dimensions Using PCA\"}, \"xaxis\": {\"ticklen\": 5, \"title\": {\"text\": \"PC1\"}, \"zeroline\": false}, \"yaxis\": {\"ticklen\": 5, \"title\": {\"text\": \"PC2\"}, \"zeroline\": false}},                        {\"responsive\": true}                    ).then(function(){\n",
       "                            \n",
       "var gd = document.getElementById('c1292e11-cfd3-4001-96ca-be1573aca88f');\n",
       "var x = new MutationObserver(function (mutations, observer) {{\n",
       "        var display = window.getComputedStyle(gd).display;\n",
       "        if (!display || display === 'none') {{\n",
       "            console.log([gd, 'removed!']);\n",
       "            Plotly.purge(gd);\n",
       "            observer.disconnect();\n",
       "        }}\n",
       "}});\n",
       "\n",
       "// Listen for the removal of the full notebook cells\n",
       "var notebookContainer = gd.closest('#notebook-container');\n",
       "if (notebookContainer) {{\n",
       "    x.observe(notebookContainer, {childList: true});\n",
       "}}\n",
       "\n",
       "// Listen for the clearing of the current output cell\n",
       "var outputEl = gd.closest('.output');\n",
       "if (outputEl) {{\n",
       "    x.observe(outputEl, {childList: true});\n",
       "}}\n",
       "\n",
       "                        })                };                });            </script>        </div>"
      ]
     },
     "metadata": {},
     "output_type": "display_data"
    }
   ],
   "source": [
    "#trace1 is for 'Cluster 0'\n",
    "trace1 = go.Scatter3d(\n",
    "                    x = cluster0[\"PC1_3d\"],\n",
    "                    y = cluster0[\"PC2_3d\"],\n",
    "                    z = cluster0[\"PC3_3d\"],\n",
    "                    mode = \"markers\",\n",
    "                    name = \"Cluster 0\",\n",
    "                    marker = dict(color = 'rgba(255, 128, 255, 0.8)'),\n",
    "                    text = None)\n",
    "\n",
    "#trace2 is for 'Cluster 1'\n",
    "trace2 = go.Scatter3d(\n",
    "                    x = cluster1[\"PC1_3d\"],\n",
    "                    y = cluster1[\"PC2_3d\"],\n",
    "                    z = cluster1[\"PC3_3d\"],\n",
    "                    mode = \"markers\",\n",
    "                    name = \"Cluster 1\",\n",
    "                    marker = dict(color = 'rgba(255, 128, 2, 0.8)'),\n",
    "                    text = None)\n",
    "\n",
    "#trace3 is for 'Cluster 2'\n",
    "trace3 = go.Scatter3d(\n",
    "                    x = cluster2[\"PC1_3d\"],\n",
    "                    y = cluster2[\"PC2_3d\"],\n",
    "                    z = cluster2[\"PC3_3d\"],\n",
    "                    mode = \"markers\",\n",
    "                    name = \"Photography\",\n",
    "                    marker = dict(color = 'rgba(0, 135, 200, 0.8)'),\n",
    "                    text = None)\n",
    "\n",
    "#trace4 is for 'Cluster 3'\n",
    "trace4 = go.Scatter3d(\n",
    "                    x = cluster3[\"PC1_3d\"],\n",
    "                    y = cluster3[\"PC2_3d\"],\n",
    "                    z = cluster3[\"PC3_3d\"],\n",
    "                    mode = \"markers\",\n",
    "                    name = \"Food\",\n",
    "                    marker = dict(color = 'rgba(0, 105, 50, 0.8)'),\n",
    "                    text = None)\n",
    "\n",
    "#trace5 is for 'Cluster 4'\n",
    "trace5 = go.Scatter3d(\n",
    "                    x = cluster4[\"PC1_3d\"],\n",
    "                    y = cluster4[\"PC2_3d\"],\n",
    "                    z = cluster4[\"PC3_3d\"],\n",
    "                    mode = \"markers\",\n",
    "                    name = \"Cluster 4\",\n",
    "                    marker = dict(color = 'rgba(50, 25, 210, 0.8)'),\n",
    "                    text = None)\n",
    "\n",
    "#trace6 is for 'Cluster 5'\n",
    "trace6 = go.Scatter3d(\n",
    "                    x = cluster5[\"PC1_3d\"],\n",
    "                    y = cluster5[\"PC2_3d\"],\n",
    "                    z = cluster5[\"PC3_3d\"],\n",
    "                    mode = \"markers\",\n",
    "                    name = \"Fashion\",\n",
    "                    marker = dict(color = 'rgba(70, 195, 100, 0.8)'),\n",
    "                    text = None)\n",
    "\n",
    "data = [trace1, trace2, trace3, trace4, trace5, trace6]\n",
    "\n",
    "title = \"Visualizing Clusters in Three Dimensions Using PCA\"\n",
    "\n",
    "layout = dict(title = title,\n",
    "              xaxis= dict(title= 'PC1',ticklen= 5,zeroline= False),\n",
    "              yaxis= dict(title= 'PC2',ticklen= 5,zeroline= False)\n",
    "             )\n",
    "\n",
    "fig = dict(data = data, layout = layout)\n",
    "\n",
    "iplot(fig)"
   ]
  },
  {
   "cell_type": "code",
   "execution_count": null,
   "metadata": {},
   "outputs": [],
   "source": []
  }
 ],
 "metadata": {
  "kernelspec": {
   "display_name": "Python 3",
   "language": "python",
   "name": "python3"
  },
  "language_info": {
   "codemirror_mode": {
    "name": "ipython",
    "version": 3
   },
   "file_extension": ".py",
   "mimetype": "text/x-python",
   "name": "python",
   "nbconvert_exporter": "python",
   "pygments_lexer": "ipython3",
   "version": "3.8.5"
  }
 },
 "nbformat": 4,
 "nbformat_minor": 4
}
